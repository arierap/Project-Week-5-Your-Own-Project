{
 "cells": [
  {
   "cell_type": "markdown",
   "metadata": {},
   "source": [
    "# The One With The Data Analysis"
   ]
  },
  {
   "cell_type": "markdown",
   "metadata": {},
   "source": [
    "\n",
    "\n",
    "<img src=\"images/friends_title.svg\" alt=\"Title\" width=\"700\"/>\n",
    "\n"
   ]
  },
  {
   "cell_type": "markdown",
   "metadata": {},
   "source": [
    "**Paper contents:**\n",
    "- Introduction to the analysis\n",
    "- Data sources\n",
    "- Data wrangling\n",
    "- Questions to answer\n",
    "- Insights\n",
    "- Possible further questions and improvements"
   ]
  },
  {
   "cell_type": "markdown",
   "metadata": {},
   "source": [
    "# Introduction"
   ]
  },
  {
   "cell_type": "markdown",
   "metadata": {},
   "source": [
    "The paper centers around the analysis the popular tv show *'F.R.I.E.N.D.S'* over its ten seasons between 1994 and 2004.\n",
    "\n",
    "I was and still am a huge 'friends' fan throughout its ten year run. I have probably seen all ten season more than 15 times through return episodes.\n",
    "\n",
    "The idea was to analyse all 236 episodes by acquiring their associated transcripts and, with the power of python, be able to transform these transcripts into an actionable data set.  \n",
    "\n",
    "After some research, I was able to find complete transcripts provided at this [github repo](https://github.com/shilpibhattacharyya/Friends_Analysis/tree/master/transcripts_friends) where every episode from every season was merged to form 10 text files representing each season respectively.\n",
    "\n",
    "Once the necessary data transformation has been done, the application of data analysis though python and its associated libraries made way to insights and further questions and improvements."
   ]
  },
  {
   "cell_type": "markdown",
   "metadata": {},
   "source": [
    "# Data sources"
   ]
  },
  {
   "cell_type": "markdown",
   "metadata": {},
   "source": [
    "## Transcripts"
   ]
  },
  {
   "cell_type": "markdown",
   "metadata": {},
   "source": [
    "As mentioned earlier, the first step was to acquire all the [transcripts](https://github.com/shilpibhattacharyya/Friends_Analysis/tree/master/transcripts_friends) and import them into python for further manipulation and cleaning."
   ]
  },
  {
   "cell_type": "markdown",
   "metadata": {},
   "source": [
    "**Libraries used**"
   ]
  },
  {
   "cell_type": "code",
   "execution_count": 1,
   "metadata": {},
   "outputs": [],
   "source": [
    "import numpy as np\n",
    "import pandas as pd\n",
    "import matplotlib.pyplot as plt\n",
    "import json\n",
    "import pandas as pd\n",
    "import seaborn as sns\n",
    "import re\n",
    "\n",
    "# Modules created for cleaning and manipulating data\n",
    "from modules import friends_library as fr\n",
    "from modules import apartment_list as apart\n",
    "from modules import catch_phrase as phrase"
   ]
  },
  {
   "cell_type": "markdown",
   "metadata": {},
   "source": [
    "An example of season 1's transcript"
   ]
  },
  {
   "cell_type": "code",
   "execution_count": 2,
   "metadata": {},
   "outputs": [],
   "source": [
    "transcript_1 = pd.read_csv('transcripts/merged1.csv', sep='\\t')"
   ]
  },
  {
   "cell_type": "code",
   "execution_count": 3,
   "metadata": {},
   "outputs": [
    {
     "data": {
      "text/html": [
       "<div>\n",
       "<style scoped>\n",
       "    .dataframe tbody tr th:only-of-type {\n",
       "        vertical-align: middle;\n",
       "    }\n",
       "\n",
       "    .dataframe tbody tr th {\n",
       "        vertical-align: top;\n",
       "    }\n",
       "\n",
       "    .dataframe thead th {\n",
       "        text-align: right;\n",
       "    }\n",
       "</style>\n",
       "<table border=\"1\" class=\"dataframe\">\n",
       "  <thead>\n",
       "    <tr style=\"text-align: right;\">\n",
       "      <th></th>\n",
       "      <th>Written by: Marta Kauffman &amp; David Crane</th>\n",
       "    </tr>\n",
       "  </thead>\n",
       "  <tbody>\n",
       "    <tr>\n",
       "      <th>0</th>\n",
       "      <td>Transcribed by: guineapig</td>\n",
       "    </tr>\n",
       "    <tr>\n",
       "      <th>1</th>\n",
       "      <td>Additional transcribing by: Eric Aasen</td>\n",
       "    </tr>\n",
       "    <tr>\n",
       "      <th>2</th>\n",
       "      <td>(Note: The previously unseen parts of this epi...</td>\n",
       "    </tr>\n",
       "    <tr>\n",
       "      <th>3</th>\n",
       "      <td>[Scene: Central Perk, Chandler, Joey, Phoebe, ...</td>\n",
       "    </tr>\n",
       "    <tr>\n",
       "      <th>4</th>\n",
       "      <td>Monica: There's nothing to tell! He's just som...</td>\n",
       "    </tr>\n",
       "    <tr>\n",
       "      <th>5</th>\n",
       "      <td>Joey: C'mon, you're going out with the guy! Th...</td>\n",
       "    </tr>\n",
       "    <tr>\n",
       "      <th>6</th>\n",
       "      <td>Chandler: All right Joey, be nice.  So does he...</td>\n",
       "    </tr>\n",
       "    <tr>\n",
       "      <th>7</th>\n",
       "      <td>Phoebe: Wait, does he eat chalk?</td>\n",
       "    </tr>\n",
       "    <tr>\n",
       "      <th>8</th>\n",
       "      <td>(They all stare, bemused.)</td>\n",
       "    </tr>\n",
       "    <tr>\n",
       "      <th>9</th>\n",
       "      <td>Phoebe: Just, 'cause, I don't want her to go t...</td>\n",
       "    </tr>\n",
       "  </tbody>\n",
       "</table>\n",
       "</div>"
      ],
      "text/plain": [
       "            Written by: Marta Kauffman & David Crane\n",
       "0                          Transcribed by: guineapig\n",
       "1             Additional transcribing by: Eric Aasen\n",
       "2  (Note: The previously unseen parts of this epi...\n",
       "3  [Scene: Central Perk, Chandler, Joey, Phoebe, ...\n",
       "4  Monica: There's nothing to tell! He's just som...\n",
       "5  Joey: C'mon, you're going out with the guy! Th...\n",
       "6  Chandler: All right Joey, be nice.  So does he...\n",
       "7                   Phoebe: Wait, does he eat chalk?\n",
       "8                         (They all stare, bemused.)\n",
       "9  Phoebe: Just, 'cause, I don't want her to go t..."
      ]
     },
     "execution_count": 3,
     "metadata": {},
     "output_type": "execute_result"
    }
   ],
   "source": [
    "transcript_1.head(10)"
   ]
  },
  {
   "cell_type": "markdown",
   "metadata": {},
   "source": [
    "# Data wrangling"
   ]
  },
  {
   "cell_type": "markdown",
   "metadata": {},
   "source": [
    "\n",
    "<img src=\"images/data_cleaning.gif\" width=\"450\"/>\n"
   ]
  },
  {
   "cell_type": "markdown",
   "metadata": {},
   "source": [
    "Since I was dealing with large text files, cleaning the data presented a challenge. The amount of variability involved with text was high and manipulating it with confidence was not easy.\n",
    "\n",
    "After spending some time studying the transcripts, I decided to create modules housing functions that will, step by step, enable me to clean and narrow down the data to what is relevant."
   ]
  },
  {
   "cell_type": "markdown",
   "metadata": {},
   "source": [
    "## Calling functions to create one merged dataframe"
   ]
  },
  {
   "cell_type": "markdown",
   "metadata": {},
   "source": [
    "After creating the different modules, I was able to call the necessary ones in order to create a pipeline that cleans and combines all 10 seasons into one dataframe for further cleaning and/or analysis."
   ]
  },
  {
   "cell_type": "markdown",
   "metadata": {},
   "source": [
    "Some functions from the *friends_library* that retrieve basic data layout"
   ]
  },
  {
   "cell_type": "code",
   "execution_count": null,
   "metadata": {},
   "outputs": [],
   "source": [
    "#Function to retreive files from folder and output all file names accordingly\n",
    "def raw_name(i):\n",
    "    return 'transcripts/merged' + str(i) + '.csv'\n",
    "\n",
    "#Function to rename header to text\n",
    "def rename_col(df):\n",
    "    df.rename(columns=({df.columns[0]: 'text'}), inplace=True)\n",
    "\n",
    "#Function to create a NaN column to fill with location of scene\n",
    "def scene_col(df):\n",
    "    import numpy as np\n",
    "    df['scene'] = np.nan\n",
    "    df['scene'] = df[(df.text).str.startswith('[Scene:')]\n",
    "\n",
    "#Function to fill each cell with the value of the preceeding cell\n",
    "def scene_fill(df):\n",
    "    df['scene'] = df['scene'].ffill(axis = 0)"
   ]
  },
  {
   "cell_type": "code",
   "execution_count": 4,
   "metadata": {
    "scrolled": false
   },
   "outputs": [],
   "source": [
    "seasons_list= []\n",
    "\n",
    "#There are only 10 files\n",
    "for i in range(1,11):\n",
    "    #file name\n",
    "    s = fr.raw_name(i)\n",
    "    \n",
    "    #dataframe of each file\n",
    "    d = pd.read_csv( s , sep='\\t')\n",
    "    \n",
    "    #data cleaning\n",
    "    fr.rename_col(d)\n",
    "    fr.scene_col(d)\n",
    "    fr.scene_fill(d)\n",
    "    fr.location(d)\n",
    "    fr.drop_scene(d)\n",
    "    fr.character(d)\n",
    "    fr.word_count(d)\n",
    "    d['season'] = i\n",
    "    #only keeps main 6 character lines\n",
    "    d = fr.final_df(d)\n",
    "    \n",
    "    #appending seasons accordingly\n",
    "    seasons_list.append(d)"
   ]
  },
  {
   "cell_type": "markdown",
   "metadata": {},
   "source": [
    "### Concatenating dataframes to create one"
   ]
  },
  {
   "cell_type": "code",
   "execution_count": 5,
   "metadata": {},
   "outputs": [],
   "source": [
    "df1 = fr.concat_df(seasons_list)"
   ]
  },
  {
   "cell_type": "code",
   "execution_count": 6,
   "metadata": {},
   "outputs": [],
   "source": [
    "#reset index\n",
    "df1.reset_index(drop=True, inplace=True)"
   ]
  },
  {
   "cell_type": "markdown",
   "metadata": {},
   "source": [
    "### Amending scene locations for ease of data exploration"
   ]
  },
  {
   "cell_type": "code",
   "execution_count": 7,
   "metadata": {},
   "outputs": [],
   "source": [
    "apart.amend_location(df1)"
   ]
  },
  {
   "cell_type": "code",
   "execution_count": 8,
   "metadata": {},
   "outputs": [
    {
     "data": {
      "text/html": [
       "<div>\n",
       "<style scoped>\n",
       "    .dataframe tbody tr th:only-of-type {\n",
       "        vertical-align: middle;\n",
       "    }\n",
       "\n",
       "    .dataframe tbody tr th {\n",
       "        vertical-align: top;\n",
       "    }\n",
       "\n",
       "    .dataframe thead th {\n",
       "        text-align: right;\n",
       "    }\n",
       "</style>\n",
       "<table border=\"1\" class=\"dataframe\">\n",
       "  <thead>\n",
       "    <tr style=\"text-align: right;\">\n",
       "      <th></th>\n",
       "      <th>text</th>\n",
       "      <th>location</th>\n",
       "      <th>character</th>\n",
       "      <th>word_count</th>\n",
       "      <th>season</th>\n",
       "    </tr>\n",
       "  </thead>\n",
       "  <tbody>\n",
       "    <tr>\n",
       "      <th>0</th>\n",
       "      <td>Monica: There's nothing to tell! He's just som...</td>\n",
       "      <td>Central Perk</td>\n",
       "      <td>Monica</td>\n",
       "      <td>11</td>\n",
       "      <td>1</td>\n",
       "    </tr>\n",
       "    <tr>\n",
       "      <th>1</th>\n",
       "      <td>Joey: C'mon, you're going out with the guy! Th...</td>\n",
       "      <td>Central Perk</td>\n",
       "      <td>Joey</td>\n",
       "      <td>14</td>\n",
       "      <td>1</td>\n",
       "    </tr>\n",
       "    <tr>\n",
       "      <th>2</th>\n",
       "      <td>Chandler: All right Joey, be nice.  So does he...</td>\n",
       "      <td>Central Perk</td>\n",
       "      <td>Chandler</td>\n",
       "      <td>17</td>\n",
       "      <td>1</td>\n",
       "    </tr>\n",
       "    <tr>\n",
       "      <th>3</th>\n",
       "      <td>Phoebe: Wait, does he eat chalk?</td>\n",
       "      <td>Central Perk</td>\n",
       "      <td>Phoebe</td>\n",
       "      <td>5</td>\n",
       "      <td>1</td>\n",
       "    </tr>\n",
       "    <tr>\n",
       "      <th>4</th>\n",
       "      <td>Phoebe: Just, 'cause, I don't want her to go t...</td>\n",
       "      <td>Central Perk</td>\n",
       "      <td>Phoebe</td>\n",
       "      <td>16</td>\n",
       "      <td>1</td>\n",
       "    </tr>\n",
       "  </tbody>\n",
       "</table>\n",
       "</div>"
      ],
      "text/plain": [
       "                                                text      location character  \\\n",
       "0  Monica: There's nothing to tell! He's just som...  Central Perk    Monica   \n",
       "1  Joey: C'mon, you're going out with the guy! Th...  Central Perk      Joey   \n",
       "2  Chandler: All right Joey, be nice.  So does he...  Central Perk  Chandler   \n",
       "3                   Phoebe: Wait, does he eat chalk?  Central Perk    Phoebe   \n",
       "4  Phoebe: Just, 'cause, I don't want her to go t...  Central Perk    Phoebe   \n",
       "\n",
       "   word_count  season  \n",
       "0          11       1  \n",
       "1          14       1  \n",
       "2          17       1  \n",
       "3           5       1  \n",
       "4          16       1  "
      ]
     },
     "execution_count": 8,
     "metadata": {},
     "output_type": "execute_result"
    }
   ],
   "source": [
    "df1.head()"
   ]
  },
  {
   "cell_type": "code",
   "execution_count": 9,
   "metadata": {},
   "outputs": [
    {
     "data": {
      "text/html": [
       "<div>\n",
       "<style scoped>\n",
       "    .dataframe tbody tr th:only-of-type {\n",
       "        vertical-align: middle;\n",
       "    }\n",
       "\n",
       "    .dataframe tbody tr th {\n",
       "        vertical-align: top;\n",
       "    }\n",
       "\n",
       "    .dataframe thead th {\n",
       "        text-align: right;\n",
       "    }\n",
       "</style>\n",
       "<table border=\"1\" class=\"dataframe\">\n",
       "  <thead>\n",
       "    <tr style=\"text-align: right;\">\n",
       "      <th></th>\n",
       "      <th>text</th>\n",
       "      <th>location</th>\n",
       "      <th>character</th>\n",
       "      <th>word_count</th>\n",
       "      <th>season</th>\n",
       "    </tr>\n",
       "  </thead>\n",
       "  <tbody>\n",
       "    <tr>\n",
       "      <th>48317</th>\n",
       "      <td>Chandler: Oh, it's gonna be okay.</td>\n",
       "      <td>Chandler and Joey's</td>\n",
       "      <td>Chandler</td>\n",
       "      <td>5</td>\n",
       "      <td>10</td>\n",
       "    </tr>\n",
       "    <tr>\n",
       "      <th>48318</th>\n",
       "      <td>Rachel: (crying) Do you guys have to go to the...</td>\n",
       "      <td>Chandler and Joey's</td>\n",
       "      <td>Rachel</td>\n",
       "      <td>19</td>\n",
       "      <td>10</td>\n",
       "    </tr>\n",
       "    <tr>\n",
       "      <th>48319</th>\n",
       "      <td>Monica: We got some time.</td>\n",
       "      <td>Chandler and Joey's</td>\n",
       "      <td>Monica</td>\n",
       "      <td>4</td>\n",
       "      <td>10</td>\n",
       "    </tr>\n",
       "    <tr>\n",
       "      <th>48320</th>\n",
       "      <td>Rachel: Okay, should we get some coffee?</td>\n",
       "      <td>Chandler and Joey's</td>\n",
       "      <td>Rachel</td>\n",
       "      <td>6</td>\n",
       "      <td>10</td>\n",
       "    </tr>\n",
       "    <tr>\n",
       "      <th>48321</th>\n",
       "      <td>Chandler: Sure. Where?</td>\n",
       "      <td>Chandler and Joey's</td>\n",
       "      <td>Chandler</td>\n",
       "      <td>2</td>\n",
       "      <td>10</td>\n",
       "    </tr>\n",
       "  </tbody>\n",
       "</table>\n",
       "</div>"
      ],
      "text/plain": [
       "                                                    text             location  \\\n",
       "48317                  Chandler: Oh, it's gonna be okay.  Chandler and Joey's   \n",
       "48318  Rachel: (crying) Do you guys have to go to the...  Chandler and Joey's   \n",
       "48319                          Monica: We got some time.  Chandler and Joey's   \n",
       "48320           Rachel: Okay, should we get some coffee?  Chandler and Joey's   \n",
       "48321                             Chandler: Sure. Where?  Chandler and Joey's   \n",
       "\n",
       "      character  word_count  season  \n",
       "48317  Chandler           5      10  \n",
       "48318    Rachel          19      10  \n",
       "48319    Monica           4      10  \n",
       "48320    Rachel           6      10  \n",
       "48321  Chandler           2      10  "
      ]
     },
     "execution_count": 9,
     "metadata": {},
     "output_type": "execute_result"
    }
   ],
   "source": [
    "df1.tail()"
   ]
  },
  {
   "cell_type": "code",
   "execution_count": 10,
   "metadata": {},
   "outputs": [
    {
     "data": {
      "text/html": [
       "<div>\n",
       "<style scoped>\n",
       "    .dataframe tbody tr th:only-of-type {\n",
       "        vertical-align: middle;\n",
       "    }\n",
       "\n",
       "    .dataframe tbody tr th {\n",
       "        vertical-align: top;\n",
       "    }\n",
       "\n",
       "    .dataframe thead th {\n",
       "        text-align: right;\n",
       "    }\n",
       "</style>\n",
       "<table border=\"1\" class=\"dataframe\">\n",
       "  <thead>\n",
       "    <tr style=\"text-align: right;\">\n",
       "      <th></th>\n",
       "      <th>word_count</th>\n",
       "      <th>season</th>\n",
       "    </tr>\n",
       "  </thead>\n",
       "  <tbody>\n",
       "    <tr>\n",
       "      <th>count</th>\n",
       "      <td>48322.000000</td>\n",
       "      <td>48322.000000</td>\n",
       "    </tr>\n",
       "    <tr>\n",
       "      <th>mean</th>\n",
       "      <td>11.951285</td>\n",
       "      <td>5.619531</td>\n",
       "    </tr>\n",
       "    <tr>\n",
       "      <th>std</th>\n",
       "      <td>12.215999</td>\n",
       "      <td>2.797343</td>\n",
       "    </tr>\n",
       "    <tr>\n",
       "      <th>min</th>\n",
       "      <td>0.000000</td>\n",
       "      <td>1.000000</td>\n",
       "    </tr>\n",
       "    <tr>\n",
       "      <th>25%</th>\n",
       "      <td>4.000000</td>\n",
       "      <td>3.000000</td>\n",
       "    </tr>\n",
       "    <tr>\n",
       "      <th>50%</th>\n",
       "      <td>8.000000</td>\n",
       "      <td>6.000000</td>\n",
       "    </tr>\n",
       "    <tr>\n",
       "      <th>75%</th>\n",
       "      <td>16.000000</td>\n",
       "      <td>8.000000</td>\n",
       "    </tr>\n",
       "    <tr>\n",
       "      <th>max</th>\n",
       "      <td>248.000000</td>\n",
       "      <td>10.000000</td>\n",
       "    </tr>\n",
       "  </tbody>\n",
       "</table>\n",
       "</div>"
      ],
      "text/plain": [
       "         word_count        season\n",
       "count  48322.000000  48322.000000\n",
       "mean      11.951285      5.619531\n",
       "std       12.215999      2.797343\n",
       "min        0.000000      1.000000\n",
       "25%        4.000000      3.000000\n",
       "50%        8.000000      6.000000\n",
       "75%       16.000000      8.000000\n",
       "max      248.000000     10.000000"
      ]
     },
     "execution_count": 10,
     "metadata": {},
     "output_type": "execute_result"
    }
   ],
   "source": [
    "df1.describe()"
   ]
  },
  {
   "cell_type": "code",
   "execution_count": 11,
   "metadata": {},
   "outputs": [
    {
     "name": "stdout",
     "output_type": "stream",
     "text": [
      "<class 'pandas.core.frame.DataFrame'>\n",
      "RangeIndex: 48322 entries, 0 to 48321\n",
      "Data columns (total 5 columns):\n",
      "text          48322 non-null object\n",
      "location      48322 non-null object\n",
      "character     48322 non-null object\n",
      "word_count    48322 non-null int64\n",
      "season        48322 non-null int64\n",
      "dtypes: int64(2), object(3)\n",
      "memory usage: 1.8+ MB\n"
     ]
    }
   ],
   "source": [
    "df1.info()"
   ]
  },
  {
   "cell_type": "code",
   "execution_count": 12,
   "metadata": {
    "scrolled": false
   },
   "outputs": [
    {
     "data": {
      "image/png": "[encoded data removed]",
      "text/plain": [
       "<Figure size 513.25x432 with 6 Axes>"
      ]
     },
     "metadata": {
      "needs_background": "light"
     },
     "output_type": "display_data"
    }
   ],
   "source": [
    "pairplot = sns.pairplot(df1, height=3, hue='character', palette=\"bright\")"
   ]
  },
  {
   "cell_type": "markdown",
   "metadata": {},
   "source": [
    "# Questions to answer"
   ]
  },
  {
   "cell_type": "markdown",
   "metadata": {},
   "source": [
    "The questions that sparked this paper span a combination of questions from finding out who had the most lines to how many times Joey said 'Hey, how you doin!'.\n",
    "\n",
    "Some of the questions presented:\n",
    "* How many lines did each character directly contribute over 10 seasons\n",
    "* How many words did each character directly contribute over 10 seasons\n",
    "* Where did they spend most of their on screen time\n",
    "* How many times Joey said 'Hey, how you doin!'\n",
    "* How many times they say 'WE WERE ON A BREAK!'\n",
    "* How many times anyone said 'OH MY GOD!'\n",
    "* How many times 'dinosaur, palaeontology or palaeontologist' was said\n",
    "* How many times 'Smelly Cat'\n",
    "* How many times Joey mentions pizza"
   ]
  },
  {
   "cell_type": "markdown",
   "metadata": {},
   "source": [
    "# Data structure"
   ]
  },
  {
   "cell_type": "markdown",
   "metadata": {},
   "source": [
    "Reviewing the retrieved data, the final dataframe contains the following fields:\n",
    "\n",
    "* **text:** The dialogue spoken\n",
    "* **location:** The scene location split into top 5 recurring locations\n",
    "* **character:** The character with the dialogue\n",
    "* **word_count:** The total number of words spoken in each dialogue\n",
    "* **season:** The associated season number\n",
    "* **catch_phrase:** Famous catch phrases as per the questions stated earlier"
   ]
  },
  {
   "cell_type": "markdown",
   "metadata": {},
   "source": [
    "# Insights"
   ]
  },
  {
   "cell_type": "markdown",
   "metadata": {},
   "source": [
    "\n",
    "<img src=\"images/insights.jpg\" width=\"500\"/>\n"
   ]
  },
  {
   "cell_type": "markdown",
   "metadata": {},
   "source": [
    "## Number of lines per character over 10 seasons"
   ]
  },
  {
   "cell_type": "code",
   "execution_count": 13,
   "metadata": {},
   "outputs": [
    {
     "data": {
      "text/html": [
       "<div>\n",
       "<style scoped>\n",
       "    .dataframe tbody tr th:only-of-type {\n",
       "        vertical-align: middle;\n",
       "    }\n",
       "\n",
       "    .dataframe tbody tr th {\n",
       "        vertical-align: top;\n",
       "    }\n",
       "\n",
       "    .dataframe thead th {\n",
       "        text-align: right;\n",
       "    }\n",
       "</style>\n",
       "<table border=\"1\" class=\"dataframe\">\n",
       "  <thead>\n",
       "    <tr style=\"text-align: right;\">\n",
       "      <th></th>\n",
       "      <th>text</th>\n",
       "      <th>avg._lines_per_episode</th>\n",
       "    </tr>\n",
       "    <tr>\n",
       "      <th>character</th>\n",
       "      <th></th>\n",
       "      <th></th>\n",
       "    </tr>\n",
       "  </thead>\n",
       "  <tbody>\n",
       "    <tr>\n",
       "      <th>Ross</th>\n",
       "      <td>8723</td>\n",
       "      <td>36.96</td>\n",
       "    </tr>\n",
       "    <tr>\n",
       "      <th>Rachel</th>\n",
       "      <td>8709</td>\n",
       "      <td>36.90</td>\n",
       "    </tr>\n",
       "    <tr>\n",
       "      <th>Chandler</th>\n",
       "      <td>8036</td>\n",
       "      <td>34.05</td>\n",
       "    </tr>\n",
       "    <tr>\n",
       "      <th>Monica</th>\n",
       "      <td>7946</td>\n",
       "      <td>33.67</td>\n",
       "    </tr>\n",
       "    <tr>\n",
       "      <th>Joey</th>\n",
       "      <td>7863</td>\n",
       "      <td>33.32</td>\n",
       "    </tr>\n",
       "    <tr>\n",
       "      <th>Phoebe</th>\n",
       "      <td>7045</td>\n",
       "      <td>29.85</td>\n",
       "    </tr>\n",
       "  </tbody>\n",
       "</table>\n",
       "</div>"
      ],
      "text/plain": [
       "           text  avg._lines_per_episode\n",
       "character                              \n",
       "Ross       8723                   36.96\n",
       "Rachel     8709                   36.90\n",
       "Chandler   8036                   34.05\n",
       "Monica     7946                   33.67\n",
       "Joey       7863                   33.32\n",
       "Phoebe     7045                   29.85"
      ]
     },
     "execution_count": 13,
     "metadata": {},
     "output_type": "execute_result"
    }
   ],
   "source": [
    "#Count of lines per character\n",
    "lines_char = df1.groupby('character').agg({'text': 'count'}).nlargest(10, 'text')\n",
    "lines_char['avg._lines_per_episode'] = round(lines_char.text/236,2)\n",
    "lines_char"
   ]
  },
  {
   "cell_type": "markdown",
   "metadata": {},
   "source": [
    "\n",
    "<img src=\"images/lines_per_character.png\" alt=\"Title\" width=\"1000\"/>\n"
   ]
  },
  {
   "cell_type": "markdown",
   "metadata": {},
   "source": [
    "We can clearly see that both Ross & Rachel have the highest number of individiual lines over the course of the 10 seasons with almost 9000 lines each and an average of approx 37 lines per episode.\n",
    "\n",
    "Phoebe has the least amount of individual lines at around 7000 lines with an average of approx 30 lines per episode."
   ]
  },
  {
   "cell_type": "markdown",
   "metadata": {},
   "source": [
    "\n",
    "<img src=\"images/lines_per_season.png\" alt=\"Title\" width=\"1000\"/>\n"
   ]
  },
  {
   "cell_type": "markdown",
   "metadata": {},
   "source": [
    "Heatmap of lines per character/season"
   ]
  },
  {
   "cell_type": "markdown",
   "metadata": {},
   "source": [
    "\n",
    "<img src=\"images/lines_per_season_2.png\" alt=\"Title\" width=\"1000\"/>\n"
   ]
  },
  {
   "cell_type": "markdown",
   "metadata": {},
   "source": [
    "Just from glancing at the heatmap of lines per character/season we can see that season 5-9 had the highest number of lines with some exceptions such as Chandler in season 8.\n",
    "\n",
    "On the other hand we can tell that Phoebe is more or less a character with fewer lines accross all seasons."
   ]
  },
  {
   "cell_type": "markdown",
   "metadata": {},
   "source": [
    "# <center> Ross & Rachel are the two with the most lines"
   ]
  },
  {
   "cell_type": "markdown",
   "metadata": {},
   "source": [
    "## Number of words per character over 10 seasons"
   ]
  },
  {
   "cell_type": "markdown",
   "metadata": {},
   "source": [
    "Rather than just looking at the count of lines each character had, we take a closer look at the number of words spoken by each character."
   ]
  },
  {
   "cell_type": "code",
   "execution_count": 14,
   "metadata": {},
   "outputs": [
    {
     "data": {
      "text/html": [
       "<div>\n",
       "<style scoped>\n",
       "    .dataframe tbody tr th:only-of-type {\n",
       "        vertical-align: middle;\n",
       "    }\n",
       "\n",
       "    .dataframe tbody tr th {\n",
       "        vertical-align: top;\n",
       "    }\n",
       "\n",
       "    .dataframe thead th {\n",
       "        text-align: right;\n",
       "    }\n",
       "</style>\n",
       "<table border=\"1\" class=\"dataframe\">\n",
       "  <thead>\n",
       "    <tr style=\"text-align: right;\">\n",
       "      <th></th>\n",
       "      <th>word_count</th>\n",
       "    </tr>\n",
       "    <tr>\n",
       "      <th>character</th>\n",
       "      <th></th>\n",
       "    </tr>\n",
       "  </thead>\n",
       "  <tbody>\n",
       "    <tr>\n",
       "      <th>Ross</th>\n",
       "      <td>105473</td>\n",
       "    </tr>\n",
       "    <tr>\n",
       "      <th>Rachel</th>\n",
       "      <td>104333</td>\n",
       "    </tr>\n",
       "    <tr>\n",
       "      <th>Joey</th>\n",
       "      <td>97635</td>\n",
       "    </tr>\n",
       "    <tr>\n",
       "      <th>Chandler</th>\n",
       "      <td>93975</td>\n",
       "    </tr>\n",
       "    <tr>\n",
       "      <th>Monica</th>\n",
       "      <td>88460</td>\n",
       "    </tr>\n",
       "    <tr>\n",
       "      <th>Phoebe</th>\n",
       "      <td>87634</td>\n",
       "    </tr>\n",
       "  </tbody>\n",
       "</table>\n",
       "</div>"
      ],
      "text/plain": [
       "           word_count\n",
       "character            \n",
       "Ross           105473\n",
       "Rachel         104333\n",
       "Joey            97635\n",
       "Chandler        93975\n",
       "Monica          88460\n",
       "Phoebe          87634"
      ]
     },
     "execution_count": 14,
     "metadata": {},
     "output_type": "execute_result"
    }
   ],
   "source": [
    "words_char = df1.groupby('character').agg({'word_count': 'sum'}).nlargest(10, 'word_count')\n",
    "words_char"
   ]
  },
  {
   "cell_type": "markdown",
   "metadata": {},
   "source": [
    "We can see that the total word count by character is more or less well distirubted across the main 6 characters with Ross and Rachel again leading the pack with close to 100,000 words spoken from individual lines."
   ]
  },
  {
   "cell_type": "markdown",
   "metadata": {},
   "source": [
    "\n",
    "<img src=\"images/words_per_character.png\" alt=\"Title\" width=\"1000\"/>\n"
   ]
  },
  {
   "cell_type": "code",
   "execution_count": 15,
   "metadata": {
    "scrolled": false
   },
   "outputs": [
    {
     "data": {
      "image/png": "[encoded data removed]",
      "text/plain": [
       "<Figure size 1080x504 with 1 Axes>"
      ]
     },
     "metadata": {
      "needs_background": "light"
     },
     "output_type": "display_data"
    }
   ],
   "source": [
    "colors = ['limegreen', 'mediumpurple', 'salmon', 'peru', 'darkorange', 'royalblue']\n",
    "df1.groupby(['season', 'character']).sum()['word_count'].unstack('character').plot(figsize=(15,7),color=colors, linewidth=2.0)\n",
    "plt.xlabel('season',fontsize=20)\n",
    "plt.ylabel('word count',fontsize=20)\n",
    "linewidth=2.0\n",
    "plt.show()"
   ]
  },
  {
   "cell_type": "markdown",
   "metadata": {},
   "source": [
    "Rather than just looking at total word count, lets take a closer look into average number of words per line."
   ]
  },
  {
   "cell_type": "code",
   "execution_count": 16,
   "metadata": {},
   "outputs": [],
   "source": [
    "#Sum of words per character\n",
    "words_char = df1.groupby('character').agg({'word_count': 'sum', 'text':'count'}).nlargest(10, 'word_count')\n",
    "words_char.rename(columns={'text':'lines'}, inplace=True)"
   ]
  },
  {
   "cell_type": "code",
   "execution_count": 17,
   "metadata": {},
   "outputs": [],
   "source": [
    "words_char['avg._words_per_line'] = round(words_char.word_count / words_char.lines,2)"
   ]
  },
  {
   "cell_type": "code",
   "execution_count": 18,
   "metadata": {},
   "outputs": [
    {
     "data": {
      "text/html": [
       "<div>\n",
       "<style scoped>\n",
       "    .dataframe tbody tr th:only-of-type {\n",
       "        vertical-align: middle;\n",
       "    }\n",
       "\n",
       "    .dataframe tbody tr th {\n",
       "        vertical-align: top;\n",
       "    }\n",
       "\n",
       "    .dataframe thead th {\n",
       "        text-align: right;\n",
       "    }\n",
       "</style>\n",
       "<table border=\"1\" class=\"dataframe\">\n",
       "  <thead>\n",
       "    <tr style=\"text-align: right;\">\n",
       "      <th></th>\n",
       "      <th>word_count</th>\n",
       "      <th>lines</th>\n",
       "      <th>avg._words_per_line</th>\n",
       "    </tr>\n",
       "    <tr>\n",
       "      <th>character</th>\n",
       "      <th></th>\n",
       "      <th></th>\n",
       "      <th></th>\n",
       "    </tr>\n",
       "  </thead>\n",
       "  <tbody>\n",
       "    <tr>\n",
       "      <th>Ross</th>\n",
       "      <td>105473</td>\n",
       "      <td>8723</td>\n",
       "      <td>12.09</td>\n",
       "    </tr>\n",
       "    <tr>\n",
       "      <th>Rachel</th>\n",
       "      <td>104333</td>\n",
       "      <td>8709</td>\n",
       "      <td>11.98</td>\n",
       "    </tr>\n",
       "    <tr>\n",
       "      <th>Joey</th>\n",
       "      <td>97635</td>\n",
       "      <td>7863</td>\n",
       "      <td>12.42</td>\n",
       "    </tr>\n",
       "    <tr>\n",
       "      <th>Chandler</th>\n",
       "      <td>93975</td>\n",
       "      <td>8036</td>\n",
       "      <td>11.69</td>\n",
       "    </tr>\n",
       "    <tr>\n",
       "      <th>Monica</th>\n",
       "      <td>88460</td>\n",
       "      <td>7946</td>\n",
       "      <td>11.13</td>\n",
       "    </tr>\n",
       "    <tr>\n",
       "      <th>Phoebe</th>\n",
       "      <td>87634</td>\n",
       "      <td>7045</td>\n",
       "      <td>12.44</td>\n",
       "    </tr>\n",
       "  </tbody>\n",
       "</table>\n",
       "</div>"
      ],
      "text/plain": [
       "           word_count  lines  avg._words_per_line\n",
       "character                                        \n",
       "Ross           105473   8723                12.09\n",
       "Rachel         104333   8709                11.98\n",
       "Joey            97635   7863                12.42\n",
       "Chandler        93975   8036                11.69\n",
       "Monica          88460   7946                11.13\n",
       "Phoebe          87634   7045                12.44"
      ]
     },
     "execution_count": 18,
     "metadata": {},
     "output_type": "execute_result"
    }
   ],
   "source": [
    "words_char"
   ]
  },
  {
   "cell_type": "markdown",
   "metadata": {},
   "source": [
    "According to the above table, Phoebe and Joey are the **two most talkative** characters with an average of 12.44 & 12.42 words per line respectively even though they came last with the least number of overall lines."
   ]
  },
  {
   "cell_type": "markdown",
   "metadata": {},
   "source": [
    "# Phoebe & Joey are the two most talkative characters"
   ]
  },
  {
   "cell_type": "markdown",
   "metadata": {},
   "source": [
    "## Where did they spend most their time"
   ]
  },
  {
   "cell_type": "markdown",
   "metadata": {},
   "source": [
    "So where did they spend most of their on screen time.\n",
    "\n",
    "Locations have been narrowed down to the top six in terms of line count occurring at the respective location.\n",
    "* Central Perk\n",
    "* Chandler & Joey's\n",
    "* Monica's \n",
    "* Ross's Apartment\n",
    "* The Hallway\n",
    "* Other"
   ]
  },
  {
   "cell_type": "code",
   "execution_count": 19,
   "metadata": {},
   "outputs": [
    {
     "data": {
      "text/html": [
       "<div>\n",
       "<style scoped>\n",
       "    .dataframe tbody tr th:only-of-type {\n",
       "        vertical-align: middle;\n",
       "    }\n",
       "\n",
       "    .dataframe tbody tr th {\n",
       "        vertical-align: top;\n",
       "    }\n",
       "\n",
       "    .dataframe thead th {\n",
       "        text-align: right;\n",
       "    }\n",
       "</style>\n",
       "<table border=\"1\" class=\"dataframe\">\n",
       "  <thead>\n",
       "    <tr style=\"text-align: right;\">\n",
       "      <th>location</th>\n",
       "      <th>Central Perk</th>\n",
       "      <th>Chandler and Joey's</th>\n",
       "      <th>Monica's Apartment</th>\n",
       "      <th>Other</th>\n",
       "      <th>Ross's Apartment</th>\n",
       "      <th>The Hallway</th>\n",
       "    </tr>\n",
       "    <tr>\n",
       "      <th>season</th>\n",
       "      <th></th>\n",
       "      <th></th>\n",
       "      <th></th>\n",
       "      <th></th>\n",
       "      <th></th>\n",
       "      <th></th>\n",
       "    </tr>\n",
       "  </thead>\n",
       "  <tbody>\n",
       "    <tr>\n",
       "      <th>1</th>\n",
       "      <td>967</td>\n",
       "      <td>355</td>\n",
       "      <td>1897</td>\n",
       "      <td>984</td>\n",
       "      <td>92</td>\n",
       "      <td>86</td>\n",
       "    </tr>\n",
       "    <tr>\n",
       "      <th>2</th>\n",
       "      <td>661</td>\n",
       "      <td>933</td>\n",
       "      <td>1530</td>\n",
       "      <td>562</td>\n",
       "      <td>278</td>\n",
       "      <td>103</td>\n",
       "    </tr>\n",
       "    <tr>\n",
       "      <th>3</th>\n",
       "      <td>879</td>\n",
       "      <td>621</td>\n",
       "      <td>1891</td>\n",
       "      <td>1362</td>\n",
       "      <td>84</td>\n",
       "      <td>107</td>\n",
       "    </tr>\n",
       "    <tr>\n",
       "      <th>4</th>\n",
       "      <td>690</td>\n",
       "      <td>774</td>\n",
       "      <td>2009</td>\n",
       "      <td>740</td>\n",
       "      <td>79</td>\n",
       "      <td>116</td>\n",
       "    </tr>\n",
       "    <tr>\n",
       "      <th>5</th>\n",
       "      <td>953</td>\n",
       "      <td>778</td>\n",
       "      <td>1813</td>\n",
       "      <td>1243</td>\n",
       "      <td>371</td>\n",
       "      <td>91</td>\n",
       "    </tr>\n",
       "    <tr>\n",
       "      <th>6</th>\n",
       "      <td>1283</td>\n",
       "      <td>1511</td>\n",
       "      <td>1042</td>\n",
       "      <td>1258</td>\n",
       "      <td>209</td>\n",
       "      <td>115</td>\n",
       "    </tr>\n",
       "    <tr>\n",
       "      <th>7</th>\n",
       "      <td>980</td>\n",
       "      <td>1596</td>\n",
       "      <td>919</td>\n",
       "      <td>1321</td>\n",
       "      <td>178</td>\n",
       "      <td>58</td>\n",
       "    </tr>\n",
       "    <tr>\n",
       "      <th>8</th>\n",
       "      <td>830</td>\n",
       "      <td>2446</td>\n",
       "      <td>39</td>\n",
       "      <td>1331</td>\n",
       "      <td>308</td>\n",
       "      <td>192</td>\n",
       "    </tr>\n",
       "    <tr>\n",
       "      <th>9</th>\n",
       "      <td>868</td>\n",
       "      <td>1655</td>\n",
       "      <td>155</td>\n",
       "      <td>1903</td>\n",
       "      <td>627</td>\n",
       "      <td>79</td>\n",
       "    </tr>\n",
       "    <tr>\n",
       "      <th>10</th>\n",
       "      <td>756</td>\n",
       "      <td>1467</td>\n",
       "      <td>680</td>\n",
       "      <td>1246</td>\n",
       "      <td>177</td>\n",
       "      <td>44</td>\n",
       "    </tr>\n",
       "  </tbody>\n",
       "</table>\n",
       "</div>"
      ],
      "text/plain": [
       "location  Central Perk  Chandler and Joey's  Monica's Apartment  Other  \\\n",
       "season                                                                   \n",
       "1                  967                  355                1897    984   \n",
       "2                  661                  933                1530    562   \n",
       "3                  879                  621                1891   1362   \n",
       "4                  690                  774                2009    740   \n",
       "5                  953                  778                1813   1243   \n",
       "6                 1283                 1511                1042   1258   \n",
       "7                  980                 1596                 919   1321   \n",
       "8                  830                 2446                  39   1331   \n",
       "9                  868                 1655                 155   1903   \n",
       "10                 756                 1467                 680   1246   \n",
       "\n",
       "location  Ross's Apartment  The Hallway  \n",
       "season                                   \n",
       "1                       92           86  \n",
       "2                      278          103  \n",
       "3                       84          107  \n",
       "4                       79          116  \n",
       "5                      371           91  \n",
       "6                      209          115  \n",
       "7                      178           58  \n",
       "8                      308          192  \n",
       "9                      627           79  \n",
       "10                     177           44  "
      ]
     },
     "execution_count": 19,
     "metadata": {},
     "output_type": "execute_result"
    }
   ],
   "source": [
    "df_loc = pd.pivot_table(df1, values='text', index='season',columns=['location'], aggfunc=np.count_nonzero)\n",
    "df_loc"
   ]
  },
  {
   "cell_type": "markdown",
   "metadata": {},
   "source": [
    "### Location split overall"
   ]
  },
  {
   "cell_type": "markdown",
   "metadata": {},
   "source": [
    "\n",
    "<img src=\"images/location_split_overall.jpeg\" alt=\"Title\" width=\"1000\"/>\n"
   ]
  },
  {
   "cell_type": "markdown",
   "metadata": {},
   "source": [
    "We can immediatley notice that Central Perk is NOT the location where the most scenes take place. In fact, it seems like Chandler & Joey's apartment leads the location split overall.\n",
    "\n",
    "It is worth noting that Chandler & Joey's contains any scene that occurred in that apartment regardless if both characters were living there."
   ]
  },
  {
   "cell_type": "markdown",
   "metadata": {},
   "source": [
    "### Location split by season"
   ]
  },
  {
   "cell_type": "markdown",
   "metadata": {},
   "source": [
    "\n",
    "<img src=\"images/location_split.jpeg\" alt=\"Title\" width=\"1000\"/>\n"
   ]
  },
  {
   "cell_type": "markdown",
   "metadata": {},
   "source": [
    "# Catch phrases!"
   ]
  },
  {
   "cell_type": "markdown",
   "metadata": {},
   "source": [
    "## Calling all functions again to add 'Other' to the characters"
   ]
  },
  {
   "cell_type": "code",
   "execution_count": 20,
   "metadata": {},
   "outputs": [],
   "source": [
    "seasons_list= []\n",
    "\n",
    "#There are only 10 files\n",
    "for i in range(1,11):\n",
    "    #file name\n",
    "    s = fr.raw_name(i)\n",
    "    \n",
    "    #dataframe of each file\n",
    "    d = pd.read_csv( s , sep='\\t')\n",
    "    \n",
    "    #data cleaning\n",
    "    fr.rename_col(d)\n",
    "    fr.scene_col(d)\n",
    "    fr.scene_fill(d)\n",
    "    fr.location(d)\n",
    "    fr.drop_scene(d)\n",
    "    fr.character(d)\n",
    "    fr.word_count(d)\n",
    "    d['season'] = i\n",
    "    #this is excluded to keep 'Other' in the character column\n",
    "    #d = fr.final_df(d)\n",
    "    \n",
    "    #appending seasons accordingly\n",
    "    seasons_list.append(d)"
   ]
  },
  {
   "cell_type": "code",
   "execution_count": 21,
   "metadata": {},
   "outputs": [],
   "source": [
    "df1 = fr.concat_df(seasons_list)"
   ]
  },
  {
   "cell_type": "code",
   "execution_count": 22,
   "metadata": {},
   "outputs": [],
   "source": [
    "apart.amend_location(df1)"
   ]
  },
  {
   "cell_type": "code",
   "execution_count": 23,
   "metadata": {},
   "outputs": [
    {
     "data": {
      "text/html": [
       "<div>\n",
       "<style scoped>\n",
       "    .dataframe tbody tr th:only-of-type {\n",
       "        vertical-align: middle;\n",
       "    }\n",
       "\n",
       "    .dataframe tbody tr th {\n",
       "        vertical-align: top;\n",
       "    }\n",
       "\n",
       "    .dataframe thead th {\n",
       "        text-align: right;\n",
       "    }\n",
       "</style>\n",
       "<table border=\"1\" class=\"dataframe\">\n",
       "  <thead>\n",
       "    <tr style=\"text-align: right;\">\n",
       "      <th></th>\n",
       "      <th>text</th>\n",
       "      <th>location</th>\n",
       "      <th>character</th>\n",
       "      <th>word_count</th>\n",
       "      <th>season</th>\n",
       "    </tr>\n",
       "  </thead>\n",
       "  <tbody>\n",
       "    <tr>\n",
       "      <th>3</th>\n",
       "      <td>[Scene: Central Perk, Chandler, Joey, Phoebe, ...</td>\n",
       "      <td>Central Perk</td>\n",
       "      <td>Other</td>\n",
       "      <td>9</td>\n",
       "      <td>1</td>\n",
       "    </tr>\n",
       "    <tr>\n",
       "      <th>4</th>\n",
       "      <td>Monica: There's nothing to tell! He's just som...</td>\n",
       "      <td>Central Perk</td>\n",
       "      <td>Monica</td>\n",
       "      <td>11</td>\n",
       "      <td>1</td>\n",
       "    </tr>\n",
       "    <tr>\n",
       "      <th>5</th>\n",
       "      <td>Joey: C'mon, you're going out with the guy! Th...</td>\n",
       "      <td>Central Perk</td>\n",
       "      <td>Joey</td>\n",
       "      <td>14</td>\n",
       "      <td>1</td>\n",
       "    </tr>\n",
       "    <tr>\n",
       "      <th>6</th>\n",
       "      <td>Chandler: All right Joey, be nice.  So does he...</td>\n",
       "      <td>Central Perk</td>\n",
       "      <td>Chandler</td>\n",
       "      <td>17</td>\n",
       "      <td>1</td>\n",
       "    </tr>\n",
       "    <tr>\n",
       "      <th>7</th>\n",
       "      <td>Phoebe: Wait, does he eat chalk?</td>\n",
       "      <td>Central Perk</td>\n",
       "      <td>Phoebe</td>\n",
       "      <td>5</td>\n",
       "      <td>1</td>\n",
       "    </tr>\n",
       "  </tbody>\n",
       "</table>\n",
       "</div>"
      ],
      "text/plain": [
       "                                                text      location character  \\\n",
       "3  [Scene: Central Perk, Chandler, Joey, Phoebe, ...  Central Perk     Other   \n",
       "4  Monica: There's nothing to tell! He's just som...  Central Perk    Monica   \n",
       "5  Joey: C'mon, you're going out with the guy! Th...  Central Perk      Joey   \n",
       "6  Chandler: All right Joey, be nice.  So does he...  Central Perk  Chandler   \n",
       "7                   Phoebe: Wait, does he eat chalk?  Central Perk    Phoebe   \n",
       "\n",
       "   word_count  season  \n",
       "3           9       1  \n",
       "4          11       1  \n",
       "5          14       1  \n",
       "6          17       1  \n",
       "7           5       1  "
      ]
     },
     "execution_count": 23,
     "metadata": {},
     "output_type": "execute_result"
    }
   ],
   "source": [
    "df1.head()"
   ]
  },
  {
   "cell_type": "markdown",
   "metadata": {},
   "source": [
    "In order to identify catch phrases, I used a function that searches the text for specific strings."
   ]
  },
  {
   "cell_type": "code",
   "execution_count": null,
   "metadata": {},
   "outputs": [],
   "source": [
    "def catch_phrase(df):\n",
    "    \n",
    "    joey = [\"How're you doing?\", \n",
    "    \"Hey, how you doin’?\", \n",
    "    \"How you doin’?\",\n",
    "    \"How you doin'?\",\n",
    "    \"how you doin'?\",\n",
    "    \"Hey! How you doin’?\",\n",
    "    \"How you doin?\",\n",
    "    \"Hey, (in the Joey voice) how you doin’?\",]\n",
    "\n",
    "    ross_pattern = ['dinosaur',\n",
    "    'dinosaurs',\n",
    "    'palaeontology',\n",
    "    'palaeontologist']\n",
    "\n",
    "    break_pattern = ['on a break', 'ON a break', 'ON A BREAK']\n",
    "\n",
    "    smelly_cat_pattern = ['smelly cat', 'SMELLY CAT', 'Smelly Cat', 'Smelly cat']\n",
    "\n",
    "    phrase1 = '|'.join(joey)\n",
    "    phrase2 = '|'.join(ross_pattern)\n",
    "    phrase3 = '|'.join(break_pattern)\n",
    "    phrase4 = '|'.join(smelly_cat_pattern)\n",
    "\n",
    "    df['catch_phrase'] = ''\n",
    "    df.loc[(df['text'].str.contains(phrase1)) & (df['character'] == 'Joey'), 'catch_phrase'] = 'How you doin!'\n",
    "    df.loc[df['text'].str.contains(phrase2), 'catch_phrase'] = 'Dinosaurs!'\n",
    "    df.loc[df['text'].str.contains(phrase3), 'catch_phrase'] = 'We were on a break!'\n",
    "    df.loc[df['text'].str.contains(phrase4), 'catch_phrase'] = 'Smelly Cat!'\n",
    "    #Pizza\n",
    "    df.loc[(df.text.str.contains('pizza')) & (df['character'] == 'Joey'), 'catch_phrase'] = 'Pizza!'\n",
    "    df.loc[(df['text'].str.lower().str.contains(phrase5)), 'catch_phrase'] = 'OH MY GOD!'\n"
   ]
  },
  {
   "cell_type": "markdown",
   "metadata": {},
   "source": [
    "## Hey, How you doin!"
   ]
  },
  {
   "cell_type": "markdown",
   "metadata": {},
   "source": [
    "\n",
    "<img src=\"images/how_you_doin.gif\" width=\"500\"/>\n",
    "\n",
    "\n"
   ]
  },
  {
   "cell_type": "code",
   "execution_count": 24,
   "metadata": {
    "scrolled": true
   },
   "outputs": [
    {
     "name": "stderr",
     "output_type": "stream",
     "text": [
      "/usr/local/lib/python3.7/site-packages/pandas/core/strings.py:1843: UserWarning: This pattern has match groups. To actually get the groups, use str.extract.\n",
      "  return func(self, *args, **kwargs)\n"
     ]
    }
   ],
   "source": [
    "phrase.catch_phrase(df1)"
   ]
  },
  {
   "cell_type": "code",
   "execution_count": 25,
   "metadata": {},
   "outputs": [
    {
     "data": {
      "text/plain": [
       "                       66170\n",
       "OH MY GOD!               975\n",
       "Dinosaurs!                56\n",
       "How you doin!             24\n",
       "Smelly Cat!               24\n",
       "Pizza!                    22\n",
       "We were on a break!       17\n",
       "Name: catch_phrase, dtype: int64"
      ]
     },
     "execution_count": 25,
     "metadata": {},
     "output_type": "execute_result"
    }
   ],
   "source": [
    "df1.catch_phrase.value_counts()"
   ]
  },
  {
   "cell_type": "code",
   "execution_count": 26,
   "metadata": {
    "scrolled": true
   },
   "outputs": [
    {
     "data": {
      "text/html": [
       "<div>\n",
       "<style scoped>\n",
       "    .dataframe tbody tr th:only-of-type {\n",
       "        vertical-align: middle;\n",
       "    }\n",
       "\n",
       "    .dataframe tbody tr th {\n",
       "        vertical-align: top;\n",
       "    }\n",
       "\n",
       "    .dataframe thead th {\n",
       "        text-align: right;\n",
       "    }\n",
       "</style>\n",
       "<table border=\"1\" class=\"dataframe\">\n",
       "  <thead>\n",
       "    <tr style=\"text-align: right;\">\n",
       "      <th></th>\n",
       "      <th>text</th>\n",
       "      <th>location</th>\n",
       "      <th>character</th>\n",
       "      <th>word_count</th>\n",
       "      <th>season</th>\n",
       "      <th>catch_phrase</th>\n",
       "    </tr>\n",
       "  </thead>\n",
       "  <tbody>\n",
       "    <tr>\n",
       "      <th>5511</th>\n",
       "      <td>Joey: Hey, (in the Joey voice) how you doin’?</td>\n",
       "      <td>Other</td>\n",
       "      <td>Joey</td>\n",
       "      <td>8</td>\n",
       "      <td>8</td>\n",
       "      <td>How you doin!</td>\n",
       "    </tr>\n",
       "    <tr>\n",
       "      <th>5517</th>\n",
       "      <td>Joey: Oh, I do. (Gives her the Joey-love look....</td>\n",
       "      <td>Other</td>\n",
       "      <td>Joey</td>\n",
       "      <td>11</td>\n",
       "      <td>8</td>\n",
       "      <td>How you doin!</td>\n",
       "    </tr>\n",
       "    <tr>\n",
       "      <th>3806</th>\n",
       "      <td>Joey: Yeah, yeah. Hey, they totally match! The...</td>\n",
       "      <td>Chandler and Joey's</td>\n",
       "      <td>Joey</td>\n",
       "      <td>15</td>\n",
       "      <td>9</td>\n",
       "      <td>How you doin!</td>\n",
       "    </tr>\n",
       "    <tr>\n",
       "      <th>4341</th>\n",
       "      <td>Joey: (interrupting their conversation) Ah, hi...</td>\n",
       "      <td>Other</td>\n",
       "      <td>Joey</td>\n",
       "      <td>69</td>\n",
       "      <td>9</td>\n",
       "      <td>How you doin!</td>\n",
       "    </tr>\n",
       "    <tr>\n",
       "      <th>6824</th>\n",
       "      <td>Joey: Yeah! How you doin'? Yeah alright!</td>\n",
       "      <td>Other</td>\n",
       "      <td>Joey</td>\n",
       "      <td>6</td>\n",
       "      <td>9</td>\n",
       "      <td>How you doin!</td>\n",
       "    </tr>\n",
       "  </tbody>\n",
       "</table>\n",
       "</div>"
      ],
      "text/plain": [
       "                                                   text             location  \\\n",
       "5511      Joey: Hey, (in the Joey voice) how you doin’?                Other   \n",
       "5517  Joey: Oh, I do. (Gives her the Joey-love look....                Other   \n",
       "3806  Joey: Yeah, yeah. Hey, they totally match! The...  Chandler and Joey's   \n",
       "4341  Joey: (interrupting their conversation) Ah, hi...                Other   \n",
       "6824           Joey: Yeah! How you doin'? Yeah alright!                Other   \n",
       "\n",
       "     character  word_count  season   catch_phrase  \n",
       "5511      Joey           8       8  How you doin!  \n",
       "5517      Joey          11       8  How you doin!  \n",
       "3806      Joey          15       9  How you doin!  \n",
       "4341      Joey          69       9  How you doin!  \n",
       "6824      Joey           6       9  How you doin!  "
      ]
     },
     "execution_count": 26,
     "metadata": {},
     "output_type": "execute_result"
    }
   ],
   "source": [
    "df1[df1['catch_phrase'] == 'How you doin!'].tail()"
   ]
  },
  {
   "cell_type": "code",
   "execution_count": 27,
   "metadata": {},
   "outputs": [
    {
     "data": {
      "text/plain": [
       "24"
      ]
     },
     "execution_count": 27,
     "metadata": {},
     "output_type": "execute_result"
    }
   ],
   "source": [
    "len(df1[df1['catch_phrase'] == 'How you doin!'])"
   ]
  },
  {
   "cell_type": "markdown",
   "metadata": {},
   "source": [
    "# Surprise, the infamous catchphrase was only said a total of 24 times!!"
   ]
  },
  {
   "cell_type": "markdown",
   "metadata": {},
   "source": [
    "## WE WERE ON A BREAK!"
   ]
  },
  {
   "cell_type": "markdown",
   "metadata": {},
   "source": [
    "\n",
    "<img src=\"images/on_a_break.webp\" width=\"500\"/>\n"
   ]
  },
  {
   "cell_type": "markdown",
   "metadata": {},
   "source": [
    "How many times has 'WE WERE ON A BREAK!' been mentioned?"
   ]
  },
  {
   "cell_type": "code",
   "execution_count": 28,
   "metadata": {},
   "outputs": [
    {
     "data": {
      "text/html": [
       "<div>\n",
       "<style scoped>\n",
       "    .dataframe tbody tr th:only-of-type {\n",
       "        vertical-align: middle;\n",
       "    }\n",
       "\n",
       "    .dataframe tbody tr th {\n",
       "        vertical-align: top;\n",
       "    }\n",
       "\n",
       "    .dataframe thead th {\n",
       "        text-align: right;\n",
       "    }\n",
       "</style>\n",
       "<table border=\"1\" class=\"dataframe\">\n",
       "  <thead>\n",
       "    <tr style=\"text-align: right;\">\n",
       "      <th></th>\n",
       "      <th>text</th>\n",
       "      <th>location</th>\n",
       "      <th>character</th>\n",
       "      <th>word_count</th>\n",
       "      <th>season</th>\n",
       "      <th>catch_phrase</th>\n",
       "    </tr>\n",
       "  </thead>\n",
       "  <tbody>\n",
       "    <tr>\n",
       "      <th>4486</th>\n",
       "      <td>Ben: ‘Cause you guys were on a break.</td>\n",
       "      <td>Chandler and Joey's</td>\n",
       "      <td>Other</td>\n",
       "      <td>7</td>\n",
       "      <td>7</td>\n",
       "      <td>We were on a break!</td>\n",
       "    </tr>\n",
       "    <tr>\n",
       "      <th>4715</th>\n",
       "      <td>Ben: That you and daddy were not on a break.</td>\n",
       "      <td>Other</td>\n",
       "      <td>Other</td>\n",
       "      <td>9</td>\n",
       "      <td>7</td>\n",
       "      <td>We were on a break!</td>\n",
       "    </tr>\n",
       "    <tr>\n",
       "      <th>2450</th>\n",
       "      <td>Phoebe: That’s it?! You call that a fight? Com...</td>\n",
       "      <td>Chandler and Joey's</td>\n",
       "      <td>Phoebe</td>\n",
       "      <td>22</td>\n",
       "      <td>8</td>\n",
       "      <td>We were on a break!</td>\n",
       "    </tr>\n",
       "    <tr>\n",
       "      <th>380</th>\n",
       "      <td>Phoebe: I dunno, well he got over the \"We were...</td>\n",
       "      <td>Ross's Apartment</td>\n",
       "      <td>Phoebe</td>\n",
       "      <td>15</td>\n",
       "      <td>9</td>\n",
       "      <td>We were on a break!</td>\n",
       "    </tr>\n",
       "    <tr>\n",
       "      <th>6143</th>\n",
       "      <td>Ross: This is it. Unless we're on a break.</td>\n",
       "      <td>Ross's Apartment</td>\n",
       "      <td>Ross</td>\n",
       "      <td>8</td>\n",
       "      <td>10</td>\n",
       "      <td>We were on a break!</td>\n",
       "    </tr>\n",
       "  </tbody>\n",
       "</table>\n",
       "</div>"
      ],
      "text/plain": [
       "                                                   text             location  \\\n",
       "4486              Ben: ‘Cause you guys were on a break.  Chandler and Joey's   \n",
       "4715       Ben: That you and daddy were not on a break.                Other   \n",
       "2450  Phoebe: That’s it?! You call that a fight? Com...  Chandler and Joey's   \n",
       "380   Phoebe: I dunno, well he got over the \"We were...     Ross's Apartment   \n",
       "6143         Ross: This is it. Unless we're on a break.     Ross's Apartment   \n",
       "\n",
       "     character  word_count  season         catch_phrase  \n",
       "4486     Other           7       7  We were on a break!  \n",
       "4715     Other           9       7  We were on a break!  \n",
       "2450    Phoebe          22       8  We were on a break!  \n",
       "380     Phoebe          15       9  We were on a break!  \n",
       "6143      Ross           8      10  We were on a break!  "
      ]
     },
     "execution_count": 28,
     "metadata": {},
     "output_type": "execute_result"
    }
   ],
   "source": [
    "df1[df1['catch_phrase'] == 'We were on a break!'].tail()"
   ]
  },
  {
   "cell_type": "code",
   "execution_count": 29,
   "metadata": {},
   "outputs": [
    {
     "data": {
      "text/plain": [
       "17"
      ]
     },
     "execution_count": 29,
     "metadata": {},
     "output_type": "execute_result"
    }
   ],
   "source": [
    "len(df1[df1['catch_phrase'] == 'We were on a break!'])"
   ]
  },
  {
   "cell_type": "markdown",
   "metadata": {},
   "source": [
    "The One Where Ross and Rachel Take A Break was aired on February 13, 1997.\n"
   ]
  },
  {
   "cell_type": "markdown",
   "metadata": {},
   "source": [
    "# Since then, the 'WE WERE ON A BREAK!' shenanigans have been mentioned a meager 18 times!"
   ]
  },
  {
   "cell_type": "markdown",
   "metadata": {},
   "source": [
    "## Dinosaurs!"
   ]
  },
  {
   "cell_type": "markdown",
   "metadata": {},
   "source": [
    "How many times have 'dinosaur, palaeontology or palaeontologist' benn mentioned."
   ]
  },
  {
   "cell_type": "markdown",
   "metadata": {},
   "source": [
    "\n",
    "<img src=\"images/dinosaurs.gif\" width=\"500\"/>\n"
   ]
  },
  {
   "cell_type": "code",
   "execution_count": 30,
   "metadata": {},
   "outputs": [
    {
     "data": {
      "text/html": [
       "<div>\n",
       "<style scoped>\n",
       "    .dataframe tbody tr th:only-of-type {\n",
       "        vertical-align: middle;\n",
       "    }\n",
       "\n",
       "    .dataframe tbody tr th {\n",
       "        vertical-align: top;\n",
       "    }\n",
       "\n",
       "    .dataframe thead th {\n",
       "        text-align: right;\n",
       "    }\n",
       "</style>\n",
       "<table border=\"1\" class=\"dataframe\">\n",
       "  <thead>\n",
       "    <tr style=\"text-align: right;\">\n",
       "      <th></th>\n",
       "      <th>text</th>\n",
       "      <th>location</th>\n",
       "      <th>character</th>\n",
       "      <th>word_count</th>\n",
       "      <th>season</th>\n",
       "      <th>catch_phrase</th>\n",
       "    </tr>\n",
       "  </thead>\n",
       "  <tbody>\n",
       "    <tr>\n",
       "      <th>4551</th>\n",
       "      <td>Chandler: A dinosaur died a million years ago?</td>\n",
       "      <td>Chandler and Joey's</td>\n",
       "      <td>Chandler</td>\n",
       "      <td>7</td>\n",
       "      <td>10</td>\n",
       "      <td>Dinosaurs!</td>\n",
       "    </tr>\n",
       "    <tr>\n",
       "      <th>4978</th>\n",
       "      <td>Ross: Oh, nothing, it’s just, it’s close to Ro...</td>\n",
       "      <td>Other</td>\n",
       "      <td>Ross</td>\n",
       "      <td>18</td>\n",
       "      <td>10</td>\n",
       "      <td>Dinosaurs!</td>\n",
       "    </tr>\n",
       "    <tr>\n",
       "      <th>4985</th>\n",
       "      <td>Mr Zelner: That’s great. I worry about little ...</td>\n",
       "      <td>Other</td>\n",
       "      <td>Other</td>\n",
       "      <td>19</td>\n",
       "      <td>10</td>\n",
       "      <td>Dinosaurs!</td>\n",
       "    </tr>\n",
       "    <tr>\n",
       "      <th>5012</th>\n",
       "      <td>[Scene: Joey’s apartment. Rachel’s there and R...</td>\n",
       "      <td>Chandler and Joey's</td>\n",
       "      <td>Other</td>\n",
       "      <td>13</td>\n",
       "      <td>10</td>\n",
       "      <td>Dinosaurs!</td>\n",
       "    </tr>\n",
       "    <tr>\n",
       "      <th>5654</th>\n",
       "      <td>Joey: You can't just give up! Is that what a d...</td>\n",
       "      <td>Central Perk</td>\n",
       "      <td>Joey</td>\n",
       "      <td>12</td>\n",
       "      <td>10</td>\n",
       "      <td>Dinosaurs!</td>\n",
       "    </tr>\n",
       "  </tbody>\n",
       "</table>\n",
       "</div>"
      ],
      "text/plain": [
       "                                                   text             location  \\\n",
       "4551     Chandler: A dinosaur died a million years ago?  Chandler and Joey's   \n",
       "4978  Ross: Oh, nothing, it’s just, it’s close to Ro...                Other   \n",
       "4985  Mr Zelner: That’s great. I worry about little ...                Other   \n",
       "5012  [Scene: Joey’s apartment. Rachel’s there and R...  Chandler and Joey's   \n",
       "5654  Joey: You can't just give up! Is that what a d...         Central Perk   \n",
       "\n",
       "     character  word_count  season catch_phrase  \n",
       "4551  Chandler           7      10   Dinosaurs!  \n",
       "4978      Ross          18      10   Dinosaurs!  \n",
       "4985     Other          19      10   Dinosaurs!  \n",
       "5012     Other          13      10   Dinosaurs!  \n",
       "5654      Joey          12      10   Dinosaurs!  "
      ]
     },
     "execution_count": 30,
     "metadata": {},
     "output_type": "execute_result"
    }
   ],
   "source": [
    "df1[df1['catch_phrase'] == 'Dinosaurs!'].tail()"
   ]
  },
  {
   "cell_type": "code",
   "execution_count": 31,
   "metadata": {},
   "outputs": [
    {
     "data": {
      "text/plain": [
       "56"
      ]
     },
     "execution_count": 31,
     "metadata": {},
     "output_type": "execute_result"
    }
   ],
   "source": [
    "len(df1[df1['catch_phrase'] == 'Dinosaurs!'])"
   ]
  },
  {
   "cell_type": "markdown",
   "metadata": {},
   "source": [
    "# 56 times! Dinosaurs and Palaeontology were the subject of conversation."
   ]
  },
  {
   "cell_type": "markdown",
   "metadata": {},
   "source": [
    "## OH MY GOD!"
   ]
  },
  {
   "cell_type": "markdown",
   "metadata": {},
   "source": [
    "\n",
    "<img src=\"images/oh_my_god.gif\" width=\"500\"/>\n"
   ]
  },
  {
   "cell_type": "markdown",
   "metadata": {},
   "source": [
    "How many times has anyone said 'OH MY GOD!'"
   ]
  },
  {
   "cell_type": "code",
   "execution_count": 32,
   "metadata": {},
   "outputs": [
    {
     "data": {
      "text/html": [
       "<div>\n",
       "<style scoped>\n",
       "    .dataframe tbody tr th:only-of-type {\n",
       "        vertical-align: middle;\n",
       "    }\n",
       "\n",
       "    .dataframe tbody tr th {\n",
       "        vertical-align: top;\n",
       "    }\n",
       "\n",
       "    .dataframe thead th {\n",
       "        text-align: right;\n",
       "    }\n",
       "</style>\n",
       "<table border=\"1\" class=\"dataframe\">\n",
       "  <thead>\n",
       "    <tr style=\"text-align: right;\">\n",
       "      <th></th>\n",
       "      <th>text</th>\n",
       "      <th>location</th>\n",
       "      <th>character</th>\n",
       "      <th>word_count</th>\n",
       "      <th>season</th>\n",
       "      <th>catch_phrase</th>\n",
       "    </tr>\n",
       "  </thead>\n",
       "  <tbody>\n",
       "    <tr>\n",
       "      <th>6034</th>\n",
       "      <td>Passenger #1: Oh my God. This plane doesn't ev...</td>\n",
       "      <td>Other</td>\n",
       "      <td>Other</td>\n",
       "      <td>11</td>\n",
       "      <td>10</td>\n",
       "      <td>OH MY GOD!</td>\n",
       "    </tr>\n",
       "    <tr>\n",
       "      <th>6083</th>\n",
       "      <td>Rachel: Oh my God... What.. What are you guys ...</td>\n",
       "      <td>Other</td>\n",
       "      <td>Rachel</td>\n",
       "      <td>10</td>\n",
       "      <td>10</td>\n",
       "      <td>OH MY GOD!</td>\n",
       "    </tr>\n",
       "    <tr>\n",
       "      <th>6091</th>\n",
       "      <td>Rachel: Oh my God.</td>\n",
       "      <td>Other</td>\n",
       "      <td>Rachel</td>\n",
       "      <td>3</td>\n",
       "      <td>10</td>\n",
       "      <td>OH MY GOD!</td>\n",
       "    </tr>\n",
       "    <tr>\n",
       "      <th>6123</th>\n",
       "      <td>Ross: Oh my God!</td>\n",
       "      <td>Ross's Apartment</td>\n",
       "      <td>Ross</td>\n",
       "      <td>3</td>\n",
       "      <td>10</td>\n",
       "      <td>OH MY GOD!</td>\n",
       "    </tr>\n",
       "    <tr>\n",
       "      <th>6134</th>\n",
       "      <td>Ross: No! No! Oh my God. Did she get off the p...</td>\n",
       "      <td>Ross's Apartment</td>\n",
       "      <td>Ross</td>\n",
       "      <td>17</td>\n",
       "      <td>10</td>\n",
       "      <td>OH MY GOD!</td>\n",
       "    </tr>\n",
       "  </tbody>\n",
       "</table>\n",
       "</div>"
      ],
      "text/plain": [
       "                                                   text          location  \\\n",
       "6034  Passenger #1: Oh my God. This plane doesn't ev...             Other   \n",
       "6083  Rachel: Oh my God... What.. What are you guys ...             Other   \n",
       "6091                                 Rachel: Oh my God.             Other   \n",
       "6123                                   Ross: Oh my God!  Ross's Apartment   \n",
       "6134  Ross: No! No! Oh my God. Did she get off the p...  Ross's Apartment   \n",
       "\n",
       "     character  word_count  season catch_phrase  \n",
       "6034     Other          11      10   OH MY GOD!  \n",
       "6083    Rachel          10      10   OH MY GOD!  \n",
       "6091    Rachel           3      10   OH MY GOD!  \n",
       "6123      Ross           3      10   OH MY GOD!  \n",
       "6134      Ross          17      10   OH MY GOD!  "
      ]
     },
     "execution_count": 32,
     "metadata": {},
     "output_type": "execute_result"
    }
   ],
   "source": [
    "df1[df1['catch_phrase'] == 'OH MY GOD!'].tail()"
   ]
  },
  {
   "cell_type": "code",
   "execution_count": 33,
   "metadata": {},
   "outputs": [
    {
     "data": {
      "text/plain": [
       "975"
      ]
     },
     "execution_count": 33,
     "metadata": {},
     "output_type": "execute_result"
    }
   ],
   "source": [
    "len(df1[df1['catch_phrase'] == 'OH MY GOD!'])"
   ]
  },
  {
   "cell_type": "markdown",
   "metadata": {},
   "source": [
    "# 975 OH MY GODs"
   ]
  },
  {
   "cell_type": "markdown",
   "metadata": {},
   "source": [
    "The End"
   ]
  },
  {
   "cell_type": "code",
   "execution_count": null,
   "metadata": {},
   "outputs": [],
   "source": []
  }
 ],
 "metadata": {
  "kernelspec": {
   "display_name": "Python 3",
   "language": "python",
   "name": "python3"
  },
  "language_info": {
   "codemirror_mode": {
    "name": "ipython",
    "version": 3
   },
   "file_extension": ".py",
   "mimetype": "text/x-python",
   "name": "python",
   "nbconvert_exporter": "python",
   "pygments_lexer": "ipython3",
   "version": "3.7.5"
  }
 },
 "nbformat": 4,
 "nbformat_minor": 2
}
