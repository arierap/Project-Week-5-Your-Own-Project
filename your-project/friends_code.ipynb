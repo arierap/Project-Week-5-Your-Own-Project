{
 "cells": [
  {
   "cell_type": "markdown",
   "metadata": {},
   "source": [
    "# Friends: Season 1 - 10"
   ]
  },
  {
   "cell_type": "markdown",
   "metadata": {},
   "source": [
    "#### Libraries used"
   ]
  },
  {
   "cell_type": "code",
   "execution_count": 1,
   "metadata": {},
   "outputs": [],
   "source": [
    "import numpy as np\n",
    "import pandas as pd\n",
    "import matplotlib.pyplot as plt\n",
    "import json\n",
    "import pandas as pd\n",
    "import seaborn as sns\n",
    "import re\n",
    "from modules import friends_library as fr\n",
    "from modules import apartment_list as apart\n",
    "from modules import catch_phrase as phrase"
   ]
  },
  {
   "cell_type": "markdown",
   "metadata": {},
   "source": [
    "## Calling functions to create one merged dataframe"
   ]
  },
  {
   "cell_type": "markdown",
   "metadata": {},
   "source": [
    "After creating a 'friends_library' that contains all relevant functions, we can easily call the necessary ones in order to create a pipeline that cleans and combines all 10 seasons into one dataframe for further cleaning and/or analysis."
   ]
  },
  {
   "cell_type": "code",
   "execution_count": 2,
   "metadata": {
    "scrolled": false
   },
   "outputs": [],
   "source": [
    "seasons_list= []\n",
    "\n",
    "for i in range(1,11):\n",
    "    s = fr.raw_name(i)\n",
    "    d = pd.read_csv( s , sep='\\t')\n",
    "    fr.rename_col(d)\n",
    "    fr.scene_col(d)\n",
    "    fr.scene_fill(d)\n",
    "    fr.location(d)\n",
    "    fr.drop_scene(d)\n",
    "    fr.character(d)\n",
    "    fr.word_count(d)\n",
    "    d['season'] = i\n",
    "    d = fr.final_df(d)\n",
    "    seasons_list.append(d)"
   ]
  },
  {
   "cell_type": "markdown",
   "metadata": {},
   "source": [
    "### Concatenating dataframes to create one"
   ]
  },
  {
   "cell_type": "code",
   "execution_count": 3,
   "metadata": {},
   "outputs": [],
   "source": [
    "df1 = fr.concat_df(seasons_list)"
   ]
  },
  {
   "cell_type": "markdown",
   "metadata": {},
   "source": [
    "### Amending scene locations for ease of data exploration"
   ]
  },
  {
   "cell_type": "code",
   "execution_count": 4,
   "metadata": {},
   "outputs": [],
   "source": [
    "apart.amend_location(df1)"
   ]
  },
  {
   "cell_type": "markdown",
   "metadata": {},
   "source": [
    "### Exploring the dataframe to gather initial insights"
   ]
  },
  {
   "cell_type": "code",
   "execution_count": 5,
   "metadata": {},
   "outputs": [
    {
     "data": {
      "text/html": [
       "<div>\n",
       "<style scoped>\n",
       "    .dataframe tbody tr th:only-of-type {\n",
       "        vertical-align: middle;\n",
       "    }\n",
       "\n",
       "    .dataframe tbody tr th {\n",
       "        vertical-align: top;\n",
       "    }\n",
       "\n",
       "    .dataframe thead th {\n",
       "        text-align: right;\n",
       "    }\n",
       "</style>\n",
       "<table border=\"1\" class=\"dataframe\">\n",
       "  <thead>\n",
       "    <tr style=\"text-align: right;\">\n",
       "      <th></th>\n",
       "      <th>text</th>\n",
       "      <th>location</th>\n",
       "      <th>character</th>\n",
       "      <th>word_count</th>\n",
       "      <th>season</th>\n",
       "    </tr>\n",
       "  </thead>\n",
       "  <tbody>\n",
       "    <tr>\n",
       "      <th>0</th>\n",
       "      <td>Monica: There's nothing to tell! He's just som...</td>\n",
       "      <td>Central Perk</td>\n",
       "      <td>Monica</td>\n",
       "      <td>11</td>\n",
       "      <td>1</td>\n",
       "    </tr>\n",
       "    <tr>\n",
       "      <th>1</th>\n",
       "      <td>Joey: C'mon, you're going out with the guy! Th...</td>\n",
       "      <td>Central Perk</td>\n",
       "      <td>Joey</td>\n",
       "      <td>14</td>\n",
       "      <td>1</td>\n",
       "    </tr>\n",
       "    <tr>\n",
       "      <th>2</th>\n",
       "      <td>Chandler: All right Joey, be nice.  So does he...</td>\n",
       "      <td>Central Perk</td>\n",
       "      <td>Chandler</td>\n",
       "      <td>17</td>\n",
       "      <td>1</td>\n",
       "    </tr>\n",
       "    <tr>\n",
       "      <th>3</th>\n",
       "      <td>Phoebe: Wait, does he eat chalk?</td>\n",
       "      <td>Central Perk</td>\n",
       "      <td>Phoebe</td>\n",
       "      <td>5</td>\n",
       "      <td>1</td>\n",
       "    </tr>\n",
       "    <tr>\n",
       "      <th>4</th>\n",
       "      <td>Phoebe: Just, 'cause, I don't want her to go t...</td>\n",
       "      <td>Central Perk</td>\n",
       "      <td>Phoebe</td>\n",
       "      <td>16</td>\n",
       "      <td>1</td>\n",
       "    </tr>\n",
       "    <tr>\n",
       "      <th>...</th>\n",
       "      <td>...</td>\n",
       "      <td>...</td>\n",
       "      <td>...</td>\n",
       "      <td>...</td>\n",
       "      <td>...</td>\n",
       "    </tr>\n",
       "    <tr>\n",
       "      <th>4427</th>\n",
       "      <td>Chandler: Oh, it's gonna be okay.</td>\n",
       "      <td>Chandler and Joey's</td>\n",
       "      <td>Chandler</td>\n",
       "      <td>5</td>\n",
       "      <td>10</td>\n",
       "    </tr>\n",
       "    <tr>\n",
       "      <th>4428</th>\n",
       "      <td>Rachel: (crying) Do you guys have to go to the...</td>\n",
       "      <td>Chandler and Joey's</td>\n",
       "      <td>Rachel</td>\n",
       "      <td>19</td>\n",
       "      <td>10</td>\n",
       "    </tr>\n",
       "    <tr>\n",
       "      <th>4429</th>\n",
       "      <td>Monica: We got some time.</td>\n",
       "      <td>Chandler and Joey's</td>\n",
       "      <td>Monica</td>\n",
       "      <td>4</td>\n",
       "      <td>10</td>\n",
       "    </tr>\n",
       "    <tr>\n",
       "      <th>4430</th>\n",
       "      <td>Rachel: Okay, should we get some coffee?</td>\n",
       "      <td>Chandler and Joey's</td>\n",
       "      <td>Rachel</td>\n",
       "      <td>6</td>\n",
       "      <td>10</td>\n",
       "    </tr>\n",
       "    <tr>\n",
       "      <th>4431</th>\n",
       "      <td>Chandler: Sure. Where?</td>\n",
       "      <td>Chandler and Joey's</td>\n",
       "      <td>Chandler</td>\n",
       "      <td>2</td>\n",
       "      <td>10</td>\n",
       "    </tr>\n",
       "  </tbody>\n",
       "</table>\n",
       "<p>48322 rows × 5 columns</p>\n",
       "</div>"
      ],
      "text/plain": [
       "                                                   text             location  \\\n",
       "0     Monica: There's nothing to tell! He's just som...         Central Perk   \n",
       "1     Joey: C'mon, you're going out with the guy! Th...         Central Perk   \n",
       "2     Chandler: All right Joey, be nice.  So does he...         Central Perk   \n",
       "3                      Phoebe: Wait, does he eat chalk?         Central Perk   \n",
       "4     Phoebe: Just, 'cause, I don't want her to go t...         Central Perk   \n",
       "...                                                 ...                  ...   \n",
       "4427                  Chandler: Oh, it's gonna be okay.  Chandler and Joey's   \n",
       "4428  Rachel: (crying) Do you guys have to go to the...  Chandler and Joey's   \n",
       "4429                          Monica: We got some time.  Chandler and Joey's   \n",
       "4430           Rachel: Okay, should we get some coffee?  Chandler and Joey's   \n",
       "4431                             Chandler: Sure. Where?  Chandler and Joey's   \n",
       "\n",
       "     character  word_count  season  \n",
       "0       Monica          11       1  \n",
       "1         Joey          14       1  \n",
       "2     Chandler          17       1  \n",
       "3       Phoebe           5       1  \n",
       "4       Phoebe          16       1  \n",
       "...        ...         ...     ...  \n",
       "4427  Chandler           5      10  \n",
       "4428    Rachel          19      10  \n",
       "4429    Monica           4      10  \n",
       "4430    Rachel           6      10  \n",
       "4431  Chandler           2      10  \n",
       "\n",
       "[48322 rows x 5 columns]"
      ]
     },
     "execution_count": 5,
     "metadata": {},
     "output_type": "execute_result"
    }
   ],
   "source": [
    "df1"
   ]
  },
  {
   "cell_type": "code",
   "execution_count": 6,
   "metadata": {},
   "outputs": [
    {
     "ename": "FileNotFoundError",
     "evalue": "[Errno 2] No such file or directory: 'datasets/df1.csv'",
     "output_type": "error",
     "traceback": [
      "\u001b[0;31m---------------------------------------------------------------------------\u001b[0m",
      "\u001b[0;31mFileNotFoundError\u001b[0m                         Traceback (most recent call last)",
      "\u001b[0;32m<ipython-input-6-21ee77e232f4>\u001b[0m in \u001b[0;36m<module>\u001b[0;34m\u001b[0m\n\u001b[0;32m----> 1\u001b[0;31m \u001b[0mdf1\u001b[0m\u001b[0;34m.\u001b[0m\u001b[0mto_csv\u001b[0m\u001b[0;34m(\u001b[0m\u001b[0;34m'datasets/df1.csv'\u001b[0m\u001b[0;34m)\u001b[0m\u001b[0;34m\u001b[0m\u001b[0;34m\u001b[0m\u001b[0m\n\u001b[0m",
      "\u001b[0;32m/usr/local/lib/python3.7/site-packages/pandas/core/generic.py\u001b[0m in \u001b[0;36mto_csv\u001b[0;34m(self, path_or_buf, sep, na_rep, float_format, columns, header, index, index_label, mode, encoding, compression, quoting, quotechar, line_terminator, chunksize, date_format, doublequote, escapechar, decimal)\u001b[0m\n\u001b[1;32m   3226\u001b[0m             \u001b[0mdecimal\u001b[0m\u001b[0;34m=\u001b[0m\u001b[0mdecimal\u001b[0m\u001b[0;34m,\u001b[0m\u001b[0;34m\u001b[0m\u001b[0;34m\u001b[0m\u001b[0m\n\u001b[1;32m   3227\u001b[0m         )\n\u001b[0;32m-> 3228\u001b[0;31m         \u001b[0mformatter\u001b[0m\u001b[0;34m.\u001b[0m\u001b[0msave\u001b[0m\u001b[0;34m(\u001b[0m\u001b[0;34m)\u001b[0m\u001b[0;34m\u001b[0m\u001b[0;34m\u001b[0m\u001b[0m\n\u001b[0m\u001b[1;32m   3229\u001b[0m \u001b[0;34m\u001b[0m\u001b[0m\n\u001b[1;32m   3230\u001b[0m         \u001b[0;32mif\u001b[0m \u001b[0mpath_or_buf\u001b[0m \u001b[0;32mis\u001b[0m \u001b[0;32mNone\u001b[0m\u001b[0;34m:\u001b[0m\u001b[0;34m\u001b[0m\u001b[0;34m\u001b[0m\u001b[0m\n",
      "\u001b[0;32m/usr/local/lib/python3.7/site-packages/pandas/io/formats/csvs.py\u001b[0m in \u001b[0;36msave\u001b[0;34m(self)\u001b[0m\n\u001b[1;32m    181\u001b[0m                 \u001b[0mself\u001b[0m\u001b[0;34m.\u001b[0m\u001b[0mmode\u001b[0m\u001b[0;34m,\u001b[0m\u001b[0;34m\u001b[0m\u001b[0;34m\u001b[0m\u001b[0m\n\u001b[1;32m    182\u001b[0m                 \u001b[0mencoding\u001b[0m\u001b[0;34m=\u001b[0m\u001b[0mself\u001b[0m\u001b[0;34m.\u001b[0m\u001b[0mencoding\u001b[0m\u001b[0;34m,\u001b[0m\u001b[0;34m\u001b[0m\u001b[0;34m\u001b[0m\u001b[0m\n\u001b[0;32m--> 183\u001b[0;31m                 \u001b[0mcompression\u001b[0m\u001b[0;34m=\u001b[0m\u001b[0mself\u001b[0m\u001b[0;34m.\u001b[0m\u001b[0mcompression\u001b[0m\u001b[0;34m,\u001b[0m\u001b[0;34m\u001b[0m\u001b[0;34m\u001b[0m\u001b[0m\n\u001b[0m\u001b[1;32m    184\u001b[0m             )\n\u001b[1;32m    185\u001b[0m             \u001b[0mclose\u001b[0m \u001b[0;34m=\u001b[0m \u001b[0;32mTrue\u001b[0m\u001b[0;34m\u001b[0m\u001b[0;34m\u001b[0m\u001b[0m\n",
      "\u001b[0;32m/usr/local/lib/python3.7/site-packages/pandas/io/common.py\u001b[0m in \u001b[0;36m_get_handle\u001b[0;34m(path_or_buf, mode, encoding, compression, memory_map, is_text)\u001b[0m\n\u001b[1;32m    397\u001b[0m         \u001b[0;32mif\u001b[0m \u001b[0mencoding\u001b[0m\u001b[0;34m:\u001b[0m\u001b[0;34m\u001b[0m\u001b[0;34m\u001b[0m\u001b[0m\n\u001b[1;32m    398\u001b[0m             \u001b[0;31m# Encoding\u001b[0m\u001b[0;34m\u001b[0m\u001b[0;34m\u001b[0m\u001b[0;34m\u001b[0m\u001b[0m\n\u001b[0;32m--> 399\u001b[0;31m             \u001b[0mf\u001b[0m \u001b[0;34m=\u001b[0m \u001b[0mopen\u001b[0m\u001b[0;34m(\u001b[0m\u001b[0mpath_or_buf\u001b[0m\u001b[0;34m,\u001b[0m \u001b[0mmode\u001b[0m\u001b[0;34m,\u001b[0m \u001b[0mencoding\u001b[0m\u001b[0;34m=\u001b[0m\u001b[0mencoding\u001b[0m\u001b[0;34m,\u001b[0m \u001b[0mnewline\u001b[0m\u001b[0;34m=\u001b[0m\u001b[0;34m\"\"\u001b[0m\u001b[0;34m)\u001b[0m\u001b[0;34m\u001b[0m\u001b[0;34m\u001b[0m\u001b[0m\n\u001b[0m\u001b[1;32m    400\u001b[0m         \u001b[0;32melif\u001b[0m \u001b[0mis_text\u001b[0m\u001b[0;34m:\u001b[0m\u001b[0;34m\u001b[0m\u001b[0;34m\u001b[0m\u001b[0m\n\u001b[1;32m    401\u001b[0m             \u001b[0;31m# No explicit encoding\u001b[0m\u001b[0;34m\u001b[0m\u001b[0;34m\u001b[0m\u001b[0;34m\u001b[0m\u001b[0m\n",
      "\u001b[0;31mFileNotFoundError\u001b[0m: [Errno 2] No such file or directory: 'datasets/df1.csv'"
     ]
    }
   ],
   "source": [
    "df1.to_csv('datasets/df1.csv')"
   ]
  },
  {
   "cell_type": "code",
   "execution_count": null,
   "metadata": {
    "scrolled": true
   },
   "outputs": [],
   "source": [
    "df1.describe()"
   ]
  },
  {
   "cell_type": "code",
   "execution_count": null,
   "metadata": {},
   "outputs": [],
   "source": [
    "df1.info()"
   ]
  },
  {
   "cell_type": "code",
   "execution_count": null,
   "metadata": {
    "scrolled": true
   },
   "outputs": [],
   "source": [
    "pairplot = sns.pairplot(df1, hue='character')"
   ]
  },
  {
   "cell_type": "code",
   "execution_count": null,
   "metadata": {
    "scrolled": false
   },
   "outputs": [],
   "source": [
    "scatter = sns.lmplot(x=\"season\", y=\"word_count\", hue=\"character\", data=df1)"
   ]
  },
  {
   "cell_type": "markdown",
   "metadata": {},
   "source": [
    "## Number of lines per character over 10 seasons"
   ]
  },
  {
   "cell_type": "code",
   "execution_count": null,
   "metadata": {
    "scrolled": true
   },
   "outputs": [],
   "source": [
    "df1.groupby('character').agg({'text': 'count'}).nlargest(10, 'text')"
   ]
  },
  {
   "cell_type": "code",
   "execution_count": null,
   "metadata": {},
   "outputs": [],
   "source": [
    "df1.groupby('character').agg({'text': 'count'}).nlargest(10, 'text').plot.bar(figsize=(12,7))\n",
    "plt.show()\n"
   ]
  },
  {
   "cell_type": "code",
   "execution_count": null,
   "metadata": {},
   "outputs": [],
   "source": [
    "df1.groupby(['season', 'character']).count()['word_count'].unstack('character').plot(figsize=(12,7))\n",
    "plt.show()"
   ]
  },
  {
   "cell_type": "code",
   "execution_count": null,
   "metadata": {},
   "outputs": [],
   "source": [
    "fig, ax = plt.subplots(1, figsize=(10,4))\n",
    "\n",
    "Ross = df1.character == 'Ross'\n",
    "Rachel = df1.character == 'Rachel'\n",
    "Chandler = df1.character == 'Chandler'\n",
    "Joey = df1.character == 'Joey'\n",
    "Monica = df1.character == 'Monica'\n",
    "Phoebe = df1.character == 'Phoebe'\n",
    "\n",
    "sns.kdeplot(df1['season'][Ross], shade=True)\n",
    "sns.kdeplot(df1['season'][Rachel], shade=True)\n",
    "sns.kdeplot(df1['season'][Chandler], shade=True)\n",
    "sns.kdeplot(df1['season'][Joey], shade=True)\n",
    "sns.kdeplot(df1['season'][Phoebe], shade=True)\n",
    "sns.kdeplot(df1['season'][Monica], shade=True)\n",
    "plt.legend(('Ross', 'Rachel','Chandler', 'Joey', 'Phoebe', 'Monica'))\n",
    "plt.show()"
   ]
  },
  {
   "cell_type": "code",
   "execution_count": 7,
   "metadata": {
    "scrolled": false
   },
   "outputs": [
    {
     "data": {
      "text/html": [
       "<div>\n",
       "<style scoped>\n",
       "    .dataframe tbody tr th:only-of-type {\n",
       "        vertical-align: middle;\n",
       "    }\n",
       "\n",
       "    .dataframe tbody tr th {\n",
       "        vertical-align: top;\n",
       "    }\n",
       "\n",
       "    .dataframe thead th {\n",
       "        text-align: right;\n",
       "    }\n",
       "</style>\n",
       "<table border=\"1\" class=\"dataframe\">\n",
       "  <thead>\n",
       "    <tr style=\"text-align: right;\">\n",
       "      <th>character</th>\n",
       "      <th>Chandler</th>\n",
       "      <th>Joey</th>\n",
       "      <th>Monica</th>\n",
       "      <th>Phoebe</th>\n",
       "      <th>Rachel</th>\n",
       "      <th>Ross</th>\n",
       "    </tr>\n",
       "    <tr>\n",
       "      <th>season</th>\n",
       "      <th></th>\n",
       "      <th></th>\n",
       "      <th></th>\n",
       "      <th></th>\n",
       "      <th></th>\n",
       "      <th></th>\n",
       "    </tr>\n",
       "  </thead>\n",
       "  <tbody>\n",
       "    <tr>\n",
       "      <th>1</th>\n",
       "      <td>747</td>\n",
       "      <td>574</td>\n",
       "      <td>816</td>\n",
       "      <td>558</td>\n",
       "      <td>784</td>\n",
       "      <td>902</td>\n",
       "    </tr>\n",
       "    <tr>\n",
       "      <th>2</th>\n",
       "      <td>682</td>\n",
       "      <td>645</td>\n",
       "      <td>672</td>\n",
       "      <td>579</td>\n",
       "      <td>652</td>\n",
       "      <td>837</td>\n",
       "    </tr>\n",
       "    <tr>\n",
       "      <th>3</th>\n",
       "      <td>797</td>\n",
       "      <td>739</td>\n",
       "      <td>795</td>\n",
       "      <td>729</td>\n",
       "      <td>875</td>\n",
       "      <td>1009</td>\n",
       "    </tr>\n",
       "    <tr>\n",
       "      <th>4</th>\n",
       "      <td>814</td>\n",
       "      <td>739</td>\n",
       "      <td>665</td>\n",
       "      <td>639</td>\n",
       "      <td>798</td>\n",
       "      <td>753</td>\n",
       "    </tr>\n",
       "    <tr>\n",
       "      <th>5</th>\n",
       "      <td>920</td>\n",
       "      <td>920</td>\n",
       "      <td>873</td>\n",
       "      <td>797</td>\n",
       "      <td>883</td>\n",
       "      <td>856</td>\n",
       "    </tr>\n",
       "    <tr>\n",
       "      <th>6</th>\n",
       "      <td>1013</td>\n",
       "      <td>898</td>\n",
       "      <td>887</td>\n",
       "      <td>772</td>\n",
       "      <td>969</td>\n",
       "      <td>879</td>\n",
       "    </tr>\n",
       "    <tr>\n",
       "      <th>7</th>\n",
       "      <td>785</td>\n",
       "      <td>868</td>\n",
       "      <td>859</td>\n",
       "      <td>729</td>\n",
       "      <td>1032</td>\n",
       "      <td>779</td>\n",
       "    </tr>\n",
       "    <tr>\n",
       "      <th>8</th>\n",
       "      <td>675</td>\n",
       "      <td>893</td>\n",
       "      <td>797</td>\n",
       "      <td>760</td>\n",
       "      <td>1057</td>\n",
       "      <td>964</td>\n",
       "    </tr>\n",
       "    <tr>\n",
       "      <th>9</th>\n",
       "      <td>921</td>\n",
       "      <td>864</td>\n",
       "      <td>906</td>\n",
       "      <td>806</td>\n",
       "      <td>904</td>\n",
       "      <td>886</td>\n",
       "    </tr>\n",
       "    <tr>\n",
       "      <th>10</th>\n",
       "      <td>682</td>\n",
       "      <td>723</td>\n",
       "      <td>676</td>\n",
       "      <td>676</td>\n",
       "      <td>755</td>\n",
       "      <td>858</td>\n",
       "    </tr>\n",
       "  </tbody>\n",
       "</table>\n",
       "</div>"
      ],
      "text/plain": [
       "character  Chandler  Joey  Monica  Phoebe  Rachel  Ross\n",
       "season                                                 \n",
       "1               747   574     816     558     784   902\n",
       "2               682   645     672     579     652   837\n",
       "3               797   739     795     729     875  1009\n",
       "4               814   739     665     639     798   753\n",
       "5               920   920     873     797     883   856\n",
       "6              1013   898     887     772     969   879\n",
       "7               785   868     859     729    1032   779\n",
       "8               675   893     797     760    1057   964\n",
       "9               921   864     906     806     904   886\n",
       "10              682   723     676     676     755   858"
      ]
     },
     "execution_count": 7,
     "metadata": {},
     "output_type": "execute_result"
    }
   ],
   "source": [
    "df_lines = pd.crosstab(df1.season, df1.character)\n",
    "df_lines"
   ]
  },
  {
   "cell_type": "code",
   "execution_count": 8,
   "metadata": {},
   "outputs": [
    {
     "data": {
      "text/plain": [
       "<matplotlib.axes._subplots.AxesSubplot at 0x124ac6250>"
      ]
     },
     "execution_count": 8,
     "metadata": {},
     "output_type": "execute_result"
    },
    {
     "data": {
      "image/png": "[encoded data removed]",
      "text/plain": [
       "<Figure size 432x288 with 2 Axes>"
      ]
     },
     "metadata": {
      "needs_background": "light"
     },
     "output_type": "display_data"
    }
   ],
   "source": [
    "sns.heatmap(df_lines)"
   ]
  },
  {
   "cell_type": "markdown",
   "metadata": {},
   "source": [
    "We can see that Ross and Rachel lead with close to 9000 individual lines while Phoebe is at the bottom of this list with close to 7000 individual lines over 10 seasons."
   ]
  },
  {
   "cell_type": "markdown",
   "metadata": {},
   "source": [
    "## Number of words spoken per character over 10 seasons"
   ]
  },
  {
   "cell_type": "code",
   "execution_count": 9,
   "metadata": {},
   "outputs": [
    {
     "data": {
      "image/png": "[encoded data removed]",
      "text/plain": [
       "<Figure size 864x504 with 1 Axes>"
      ]
     },
     "metadata": {
      "needs_background": "light"
     },
     "output_type": "display_data"
    }
   ],
   "source": [
    "df1.groupby('character').agg({'word_count': 'sum'}).nlargest(10, 'word_count').plot.barh(figsize=(12,7)).invert_yaxis()\n",
    "plt.show()"
   ]
  },
  {
   "cell_type": "code",
   "execution_count": 10,
   "metadata": {
    "scrolled": false
   },
   "outputs": [
    {
     "data": {
      "text/html": [
       "<div>\n",
       "<style scoped>\n",
       "    .dataframe tbody tr th:only-of-type {\n",
       "        vertical-align: middle;\n",
       "    }\n",
       "\n",
       "    .dataframe tbody tr th {\n",
       "        vertical-align: top;\n",
       "    }\n",
       "\n",
       "    .dataframe thead th {\n",
       "        text-align: right;\n",
       "    }\n",
       "</style>\n",
       "<table border=\"1\" class=\"dataframe\">\n",
       "  <thead>\n",
       "    <tr style=\"text-align: right;\">\n",
       "      <th></th>\n",
       "      <th>word_count</th>\n",
       "    </tr>\n",
       "    <tr>\n",
       "      <th>character</th>\n",
       "      <th></th>\n",
       "    </tr>\n",
       "  </thead>\n",
       "  <tbody>\n",
       "    <tr>\n",
       "      <th>Ross</th>\n",
       "      <td>105473</td>\n",
       "    </tr>\n",
       "    <tr>\n",
       "      <th>Rachel</th>\n",
       "      <td>104333</td>\n",
       "    </tr>\n",
       "    <tr>\n",
       "      <th>Joey</th>\n",
       "      <td>97635</td>\n",
       "    </tr>\n",
       "    <tr>\n",
       "      <th>Chandler</th>\n",
       "      <td>93975</td>\n",
       "    </tr>\n",
       "    <tr>\n",
       "      <th>Monica</th>\n",
       "      <td>88460</td>\n",
       "    </tr>\n",
       "    <tr>\n",
       "      <th>Phoebe</th>\n",
       "      <td>87634</td>\n",
       "    </tr>\n",
       "  </tbody>\n",
       "</table>\n",
       "</div>"
      ],
      "text/plain": [
       "           word_count\n",
       "character            \n",
       "Ross           105473\n",
       "Rachel         104333\n",
       "Joey            97635\n",
       "Chandler        93975\n",
       "Monica          88460\n",
       "Phoebe          87634"
      ]
     },
     "execution_count": 10,
     "metadata": {},
     "output_type": "execute_result"
    }
   ],
   "source": [
    "df1.groupby('character').agg({'word_count': 'sum'}).nlargest(10, 'word_count')"
   ]
  },
  {
   "cell_type": "markdown",
   "metadata": {},
   "source": [
    "We can see that the total word count by character is more or less well distirubted across the main 6 characters with Ross and Rachel again leading the pack with close to 100,000 words spoken from individual lines."
   ]
  },
  {
   "cell_type": "markdown",
   "metadata": {},
   "source": [
    "### Compraing it over 10 seasons"
   ]
  },
  {
   "cell_type": "code",
   "execution_count": 11,
   "metadata": {
    "scrolled": false
   },
   "outputs": [
    {
     "data": {
      "image/png": "[encoded data removed]",
      "text/plain": [
       "<Figure size 1080x504 with 1 Axes>"
      ]
     },
     "metadata": {
      "needs_background": "light"
     },
     "output_type": "display_data"
    }
   ],
   "source": [
    "df1.groupby(['season', 'character']).sum()['word_count'].unstack('character').plot(figsize=(15,7))\n",
    "plt.xlabel('season',fontsize=20)\n",
    "plt.ylabel('word count',fontsize=20)\n",
    "plt.show()"
   ]
  },
  {
   "cell_type": "markdown",
   "metadata": {},
   "source": [
    "### Comparing total words vs. lines per character in order to identify who talks the most"
   ]
  },
  {
   "cell_type": "code",
   "execution_count": 12,
   "metadata": {},
   "outputs": [],
   "source": [
    "#Sum of words per character\n",
    "words_char = df1.groupby('character').agg({'word_count': 'sum', 'text':'count'}).nlargest(10, 'word_count')\n",
    "words_char.rename(columns={'text':'lines'}, inplace=True)"
   ]
  },
  {
   "cell_type": "code",
   "execution_count": 13,
   "metadata": {},
   "outputs": [],
   "source": [
    "words_char['avg._word_per_line'] = round(words_char.word_count / words_char.lines,2)"
   ]
  },
  {
   "cell_type": "code",
   "execution_count": 14,
   "metadata": {},
   "outputs": [
    {
     "data": {
      "text/html": [
       "<div>\n",
       "<style scoped>\n",
       "    .dataframe tbody tr th:only-of-type {\n",
       "        vertical-align: middle;\n",
       "    }\n",
       "\n",
       "    .dataframe tbody tr th {\n",
       "        vertical-align: top;\n",
       "    }\n",
       "\n",
       "    .dataframe thead th {\n",
       "        text-align: right;\n",
       "    }\n",
       "</style>\n",
       "<table border=\"1\" class=\"dataframe\">\n",
       "  <thead>\n",
       "    <tr style=\"text-align: right;\">\n",
       "      <th></th>\n",
       "      <th>word_count</th>\n",
       "      <th>lines</th>\n",
       "      <th>avg._word_per_line</th>\n",
       "    </tr>\n",
       "    <tr>\n",
       "      <th>character</th>\n",
       "      <th></th>\n",
       "      <th></th>\n",
       "      <th></th>\n",
       "    </tr>\n",
       "  </thead>\n",
       "  <tbody>\n",
       "    <tr>\n",
       "      <th>Ross</th>\n",
       "      <td>105473</td>\n",
       "      <td>8723</td>\n",
       "      <td>12.09</td>\n",
       "    </tr>\n",
       "    <tr>\n",
       "      <th>Rachel</th>\n",
       "      <td>104333</td>\n",
       "      <td>8709</td>\n",
       "      <td>11.98</td>\n",
       "    </tr>\n",
       "    <tr>\n",
       "      <th>Joey</th>\n",
       "      <td>97635</td>\n",
       "      <td>7863</td>\n",
       "      <td>12.42</td>\n",
       "    </tr>\n",
       "    <tr>\n",
       "      <th>Chandler</th>\n",
       "      <td>93975</td>\n",
       "      <td>8036</td>\n",
       "      <td>11.69</td>\n",
       "    </tr>\n",
       "    <tr>\n",
       "      <th>Monica</th>\n",
       "      <td>88460</td>\n",
       "      <td>7946</td>\n",
       "      <td>11.13</td>\n",
       "    </tr>\n",
       "    <tr>\n",
       "      <th>Phoebe</th>\n",
       "      <td>87634</td>\n",
       "      <td>7045</td>\n",
       "      <td>12.44</td>\n",
       "    </tr>\n",
       "  </tbody>\n",
       "</table>\n",
       "</div>"
      ],
      "text/plain": [
       "           word_count  lines  avg._word_per_line\n",
       "character                                       \n",
       "Ross           105473   8723               12.09\n",
       "Rachel         104333   8709               11.98\n",
       "Joey            97635   7863               12.42\n",
       "Chandler        93975   8036               11.69\n",
       "Monica          88460   7946               11.13\n",
       "Phoebe          87634   7045               12.44"
      ]
     },
     "execution_count": 14,
     "metadata": {},
     "output_type": "execute_result"
    }
   ],
   "source": [
    "words_char"
   ]
  },
  {
   "cell_type": "code",
   "execution_count": 15,
   "metadata": {},
   "outputs": [],
   "source": [
    "df_word_count = pd.pivot_table(df1, values='word_count', index='season',columns=['character'], aggfunc=np.sum)"
   ]
  },
  {
   "cell_type": "code",
   "execution_count": 16,
   "metadata": {
    "scrolled": true
   },
   "outputs": [
    {
     "data": {
      "text/html": [
       "<div>\n",
       "<style scoped>\n",
       "    .dataframe tbody tr th:only-of-type {\n",
       "        vertical-align: middle;\n",
       "    }\n",
       "\n",
       "    .dataframe tbody tr th {\n",
       "        vertical-align: top;\n",
       "    }\n",
       "\n",
       "    .dataframe thead th {\n",
       "        text-align: right;\n",
       "    }\n",
       "</style>\n",
       "<table border=\"1\" class=\"dataframe\">\n",
       "  <thead>\n",
       "    <tr style=\"text-align: right;\">\n",
       "      <th>character</th>\n",
       "      <th>Chandler</th>\n",
       "      <th>Joey</th>\n",
       "      <th>Monica</th>\n",
       "      <th>Phoebe</th>\n",
       "      <th>Rachel</th>\n",
       "      <th>Ross</th>\n",
       "    </tr>\n",
       "    <tr>\n",
       "      <th>season</th>\n",
       "      <th></th>\n",
       "      <th></th>\n",
       "      <th></th>\n",
       "      <th></th>\n",
       "      <th></th>\n",
       "      <th></th>\n",
       "    </tr>\n",
       "  </thead>\n",
       "  <tbody>\n",
       "    <tr>\n",
       "      <th>1</th>\n",
       "      <td>8798</td>\n",
       "      <td>6034</td>\n",
       "      <td>8249</td>\n",
       "      <td>6248</td>\n",
       "      <td>9262</td>\n",
       "      <td>10535</td>\n",
       "    </tr>\n",
       "    <tr>\n",
       "      <th>2</th>\n",
       "      <td>7955</td>\n",
       "      <td>7769</td>\n",
       "      <td>7261</td>\n",
       "      <td>8192</td>\n",
       "      <td>7548</td>\n",
       "      <td>9636</td>\n",
       "    </tr>\n",
       "    <tr>\n",
       "      <th>3</th>\n",
       "      <td>9708</td>\n",
       "      <td>9300</td>\n",
       "      <td>8724</td>\n",
       "      <td>9572</td>\n",
       "      <td>9451</td>\n",
       "      <td>11706</td>\n",
       "    </tr>\n",
       "    <tr>\n",
       "      <th>4</th>\n",
       "      <td>9502</td>\n",
       "      <td>8894</td>\n",
       "      <td>7110</td>\n",
       "      <td>8380</td>\n",
       "      <td>9374</td>\n",
       "      <td>9314</td>\n",
       "    </tr>\n",
       "    <tr>\n",
       "      <th>5</th>\n",
       "      <td>9648</td>\n",
       "      <td>11420</td>\n",
       "      <td>9781</td>\n",
       "      <td>10054</td>\n",
       "      <td>11586</td>\n",
       "      <td>10730</td>\n",
       "    </tr>\n",
       "    <tr>\n",
       "      <th>6</th>\n",
       "      <td>12423</td>\n",
       "      <td>12547</td>\n",
       "      <td>9692</td>\n",
       "      <td>9383</td>\n",
       "      <td>11870</td>\n",
       "      <td>11260</td>\n",
       "    </tr>\n",
       "    <tr>\n",
       "      <th>7</th>\n",
       "      <td>9467</td>\n",
       "      <td>10738</td>\n",
       "      <td>10270</td>\n",
       "      <td>8749</td>\n",
       "      <td>12788</td>\n",
       "      <td>9684</td>\n",
       "    </tr>\n",
       "    <tr>\n",
       "      <th>8</th>\n",
       "      <td>7003</td>\n",
       "      <td>11786</td>\n",
       "      <td>9607</td>\n",
       "      <td>8440</td>\n",
       "      <td>12720</td>\n",
       "      <td>11401</td>\n",
       "    </tr>\n",
       "    <tr>\n",
       "      <th>9</th>\n",
       "      <td>12272</td>\n",
       "      <td>10790</td>\n",
       "      <td>9989</td>\n",
       "      <td>10526</td>\n",
       "      <td>10755</td>\n",
       "      <td>11676</td>\n",
       "    </tr>\n",
       "    <tr>\n",
       "      <th>10</th>\n",
       "      <td>7199</td>\n",
       "      <td>8357</td>\n",
       "      <td>7777</td>\n",
       "      <td>8090</td>\n",
       "      <td>8979</td>\n",
       "      <td>9531</td>\n",
       "    </tr>\n",
       "  </tbody>\n",
       "</table>\n",
       "</div>"
      ],
      "text/plain": [
       "character  Chandler   Joey  Monica  Phoebe  Rachel   Ross\n",
       "season                                                   \n",
       "1              8798   6034    8249    6248    9262  10535\n",
       "2              7955   7769    7261    8192    7548   9636\n",
       "3              9708   9300    8724    9572    9451  11706\n",
       "4              9502   8894    7110    8380    9374   9314\n",
       "5              9648  11420    9781   10054   11586  10730\n",
       "6             12423  12547    9692    9383   11870  11260\n",
       "7              9467  10738   10270    8749   12788   9684\n",
       "8              7003  11786    9607    8440   12720  11401\n",
       "9             12272  10790    9989   10526   10755  11676\n",
       "10             7199   8357    7777    8090    8979   9531"
      ]
     },
     "execution_count": 16,
     "metadata": {},
     "output_type": "execute_result"
    }
   ],
   "source": [
    "df_word_count"
   ]
  },
  {
   "cell_type": "markdown",
   "metadata": {},
   "source": [
    "## Character locations over 10 seasons"
   ]
  },
  {
   "cell_type": "code",
   "execution_count": 17,
   "metadata": {},
   "outputs": [
    {
     "data": {
      "text/html": [
       "<div>\n",
       "<style scoped>\n",
       "    .dataframe tbody tr th:only-of-type {\n",
       "        vertical-align: middle;\n",
       "    }\n",
       "\n",
       "    .dataframe tbody tr th {\n",
       "        vertical-align: top;\n",
       "    }\n",
       "\n",
       "    .dataframe thead th {\n",
       "        text-align: right;\n",
       "    }\n",
       "</style>\n",
       "<table border=\"1\" class=\"dataframe\">\n",
       "  <thead>\n",
       "    <tr style=\"text-align: right;\">\n",
       "      <th>location</th>\n",
       "      <th>Central Perk</th>\n",
       "      <th>Chandler and Joey's</th>\n",
       "      <th>Monica's Apartment</th>\n",
       "      <th>Other</th>\n",
       "      <th>Ross's Apartment</th>\n",
       "      <th>The Hallway</th>\n",
       "    </tr>\n",
       "    <tr>\n",
       "      <th>season</th>\n",
       "      <th></th>\n",
       "      <th></th>\n",
       "      <th></th>\n",
       "      <th></th>\n",
       "      <th></th>\n",
       "      <th></th>\n",
       "    </tr>\n",
       "  </thead>\n",
       "  <tbody>\n",
       "    <tr>\n",
       "      <th>1</th>\n",
       "      <td>967</td>\n",
       "      <td>355</td>\n",
       "      <td>1897</td>\n",
       "      <td>984</td>\n",
       "      <td>92</td>\n",
       "      <td>86</td>\n",
       "    </tr>\n",
       "    <tr>\n",
       "      <th>2</th>\n",
       "      <td>661</td>\n",
       "      <td>933</td>\n",
       "      <td>1530</td>\n",
       "      <td>562</td>\n",
       "      <td>278</td>\n",
       "      <td>103</td>\n",
       "    </tr>\n",
       "    <tr>\n",
       "      <th>3</th>\n",
       "      <td>879</td>\n",
       "      <td>621</td>\n",
       "      <td>1891</td>\n",
       "      <td>1362</td>\n",
       "      <td>84</td>\n",
       "      <td>107</td>\n",
       "    </tr>\n",
       "    <tr>\n",
       "      <th>4</th>\n",
       "      <td>690</td>\n",
       "      <td>774</td>\n",
       "      <td>2009</td>\n",
       "      <td>740</td>\n",
       "      <td>79</td>\n",
       "      <td>116</td>\n",
       "    </tr>\n",
       "    <tr>\n",
       "      <th>5</th>\n",
       "      <td>953</td>\n",
       "      <td>778</td>\n",
       "      <td>1813</td>\n",
       "      <td>1243</td>\n",
       "      <td>371</td>\n",
       "      <td>91</td>\n",
       "    </tr>\n",
       "    <tr>\n",
       "      <th>6</th>\n",
       "      <td>1283</td>\n",
       "      <td>1511</td>\n",
       "      <td>1042</td>\n",
       "      <td>1258</td>\n",
       "      <td>209</td>\n",
       "      <td>115</td>\n",
       "    </tr>\n",
       "    <tr>\n",
       "      <th>7</th>\n",
       "      <td>980</td>\n",
       "      <td>1596</td>\n",
       "      <td>919</td>\n",
       "      <td>1321</td>\n",
       "      <td>178</td>\n",
       "      <td>58</td>\n",
       "    </tr>\n",
       "    <tr>\n",
       "      <th>8</th>\n",
       "      <td>830</td>\n",
       "      <td>2446</td>\n",
       "      <td>39</td>\n",
       "      <td>1331</td>\n",
       "      <td>308</td>\n",
       "      <td>192</td>\n",
       "    </tr>\n",
       "    <tr>\n",
       "      <th>9</th>\n",
       "      <td>868</td>\n",
       "      <td>1655</td>\n",
       "      <td>155</td>\n",
       "      <td>1903</td>\n",
       "      <td>627</td>\n",
       "      <td>79</td>\n",
       "    </tr>\n",
       "    <tr>\n",
       "      <th>10</th>\n",
       "      <td>756</td>\n",
       "      <td>1467</td>\n",
       "      <td>680</td>\n",
       "      <td>1246</td>\n",
       "      <td>177</td>\n",
       "      <td>44</td>\n",
       "    </tr>\n",
       "  </tbody>\n",
       "</table>\n",
       "</div>"
      ],
      "text/plain": [
       "location  Central Perk  Chandler and Joey's  Monica's Apartment  Other  \\\n",
       "season                                                                   \n",
       "1                  967                  355                1897    984   \n",
       "2                  661                  933                1530    562   \n",
       "3                  879                  621                1891   1362   \n",
       "4                  690                  774                2009    740   \n",
       "5                  953                  778                1813   1243   \n",
       "6                 1283                 1511                1042   1258   \n",
       "7                  980                 1596                 919   1321   \n",
       "8                  830                 2446                  39   1331   \n",
       "9                  868                 1655                 155   1903   \n",
       "10                 756                 1467                 680   1246   \n",
       "\n",
       "location  Ross's Apartment  The Hallway  \n",
       "season                                   \n",
       "1                       92           86  \n",
       "2                      278          103  \n",
       "3                       84          107  \n",
       "4                       79          116  \n",
       "5                      371           91  \n",
       "6                      209          115  \n",
       "7                      178           58  \n",
       "8                      308          192  \n",
       "9                      627           79  \n",
       "10                     177           44  "
      ]
     },
     "execution_count": 17,
     "metadata": {},
     "output_type": "execute_result"
    }
   ],
   "source": [
    "df_loc = pd.pivot_table(df1, values='text', index='season',columns=['location'], aggfunc=np.count_nonzero)\n",
    "df_loc"
   ]
  },
  {
   "cell_type": "code",
   "execution_count": 18,
   "metadata": {},
   "outputs": [
    {
     "data": {
      "text/html": [
       "<div>\n",
       "<style scoped>\n",
       "    .dataframe tbody tr th:only-of-type {\n",
       "        vertical-align: middle;\n",
       "    }\n",
       "\n",
       "    .dataframe tbody tr th {\n",
       "        vertical-align: top;\n",
       "    }\n",
       "\n",
       "    .dataframe thead th {\n",
       "        text-align: right;\n",
       "    }\n",
       "</style>\n",
       "<table border=\"1\" class=\"dataframe\">\n",
       "  <thead>\n",
       "    <tr style=\"text-align: right;\">\n",
       "      <th>location</th>\n",
       "      <th>Central Perk</th>\n",
       "      <th>Chandler and Joey's</th>\n",
       "      <th>Monica's Apartment</th>\n",
       "      <th>Other</th>\n",
       "      <th>Ross's Apartment</th>\n",
       "      <th>The Hallway</th>\n",
       "    </tr>\n",
       "    <tr>\n",
       "      <th>character</th>\n",
       "      <th></th>\n",
       "      <th></th>\n",
       "      <th></th>\n",
       "      <th></th>\n",
       "      <th></th>\n",
       "      <th></th>\n",
       "    </tr>\n",
       "  </thead>\n",
       "  <tbody>\n",
       "    <tr>\n",
       "      <th>Chandler</th>\n",
       "      <td>1332</td>\n",
       "      <td>2944</td>\n",
       "      <td>1845</td>\n",
       "      <td>1541</td>\n",
       "      <td>187</td>\n",
       "      <td>187</td>\n",
       "    </tr>\n",
       "    <tr>\n",
       "      <th>Joey</th>\n",
       "      <td>1389</td>\n",
       "      <td>2872</td>\n",
       "      <td>1444</td>\n",
       "      <td>1818</td>\n",
       "      <td>174</td>\n",
       "      <td>166</td>\n",
       "    </tr>\n",
       "    <tr>\n",
       "      <th>Monica</th>\n",
       "      <td>1128</td>\n",
       "      <td>1983</td>\n",
       "      <td>2802</td>\n",
       "      <td>1692</td>\n",
       "      <td>150</td>\n",
       "      <td>191</td>\n",
       "    </tr>\n",
       "    <tr>\n",
       "      <th>Phoebe</th>\n",
       "      <td>1813</td>\n",
       "      <td>1057</td>\n",
       "      <td>1807</td>\n",
       "      <td>2096</td>\n",
       "      <td>153</td>\n",
       "      <td>119</td>\n",
       "    </tr>\n",
       "    <tr>\n",
       "      <th>Rachel</th>\n",
       "      <td>1473</td>\n",
       "      <td>1763</td>\n",
       "      <td>2223</td>\n",
       "      <td>2478</td>\n",
       "      <td>602</td>\n",
       "      <td>170</td>\n",
       "    </tr>\n",
       "    <tr>\n",
       "      <th>Ross</th>\n",
       "      <td>1732</td>\n",
       "      <td>1517</td>\n",
       "      <td>1854</td>\n",
       "      <td>2325</td>\n",
       "      <td>1137</td>\n",
       "      <td>158</td>\n",
       "    </tr>\n",
       "  </tbody>\n",
       "</table>\n",
       "</div>"
      ],
      "text/plain": [
       "location   Central Perk  Chandler and Joey's  Monica's Apartment  Other  \\\n",
       "character                                                                 \n",
       "Chandler           1332                 2944                1845   1541   \n",
       "Joey               1389                 2872                1444   1818   \n",
       "Monica             1128                 1983                2802   1692   \n",
       "Phoebe             1813                 1057                1807   2096   \n",
       "Rachel             1473                 1763                2223   2478   \n",
       "Ross               1732                 1517                1854   2325   \n",
       "\n",
       "location   Ross's Apartment  The Hallway  \n",
       "character                                 \n",
       "Chandler                187          187  \n",
       "Joey                    174          166  \n",
       "Monica                  150          191  \n",
       "Phoebe                  153          119  \n",
       "Rachel                  602          170  \n",
       "Ross                   1137          158  "
      ]
     },
     "execution_count": 18,
     "metadata": {},
     "output_type": "execute_result"
    }
   ],
   "source": [
    "df_char_loc = pd.crosstab(df1.character, df1.location)\n",
    "df_char_loc"
   ]
  },
  {
   "cell_type": "code",
   "execution_count": 19,
   "metadata": {
    "scrolled": true
   },
   "outputs": [
    {
     "data": {
      "text/html": [
       "<div>\n",
       "<style scoped>\n",
       "    .dataframe tbody tr th:only-of-type {\n",
       "        vertical-align: middle;\n",
       "    }\n",
       "\n",
       "    .dataframe tbody tr th {\n",
       "        vertical-align: top;\n",
       "    }\n",
       "\n",
       "    .dataframe thead th {\n",
       "        text-align: right;\n",
       "    }\n",
       "</style>\n",
       "<table border=\"1\" class=\"dataframe\">\n",
       "  <thead>\n",
       "    <tr style=\"text-align: right;\">\n",
       "      <th>location</th>\n",
       "      <th>Central Perk</th>\n",
       "      <th>Chandler and Joey's</th>\n",
       "      <th>Monica's Apartment</th>\n",
       "      <th>Other</th>\n",
       "      <th>Ross's Apartment</th>\n",
       "      <th>The Hallway</th>\n",
       "    </tr>\n",
       "    <tr>\n",
       "      <th>season</th>\n",
       "      <th></th>\n",
       "      <th></th>\n",
       "      <th></th>\n",
       "      <th></th>\n",
       "      <th></th>\n",
       "      <th></th>\n",
       "    </tr>\n",
       "  </thead>\n",
       "  <tbody>\n",
       "    <tr>\n",
       "      <th>1</th>\n",
       "      <td>967</td>\n",
       "      <td>355</td>\n",
       "      <td>1897</td>\n",
       "      <td>984</td>\n",
       "      <td>92</td>\n",
       "      <td>86</td>\n",
       "    </tr>\n",
       "    <tr>\n",
       "      <th>2</th>\n",
       "      <td>661</td>\n",
       "      <td>933</td>\n",
       "      <td>1530</td>\n",
       "      <td>562</td>\n",
       "      <td>278</td>\n",
       "      <td>103</td>\n",
       "    </tr>\n",
       "    <tr>\n",
       "      <th>3</th>\n",
       "      <td>879</td>\n",
       "      <td>621</td>\n",
       "      <td>1891</td>\n",
       "      <td>1362</td>\n",
       "      <td>84</td>\n",
       "      <td>107</td>\n",
       "    </tr>\n",
       "    <tr>\n",
       "      <th>4</th>\n",
       "      <td>690</td>\n",
       "      <td>774</td>\n",
       "      <td>2009</td>\n",
       "      <td>740</td>\n",
       "      <td>79</td>\n",
       "      <td>116</td>\n",
       "    </tr>\n",
       "    <tr>\n",
       "      <th>5</th>\n",
       "      <td>953</td>\n",
       "      <td>778</td>\n",
       "      <td>1813</td>\n",
       "      <td>1243</td>\n",
       "      <td>371</td>\n",
       "      <td>91</td>\n",
       "    </tr>\n",
       "    <tr>\n",
       "      <th>6</th>\n",
       "      <td>1283</td>\n",
       "      <td>1511</td>\n",
       "      <td>1042</td>\n",
       "      <td>1258</td>\n",
       "      <td>209</td>\n",
       "      <td>115</td>\n",
       "    </tr>\n",
       "    <tr>\n",
       "      <th>7</th>\n",
       "      <td>980</td>\n",
       "      <td>1596</td>\n",
       "      <td>919</td>\n",
       "      <td>1321</td>\n",
       "      <td>178</td>\n",
       "      <td>58</td>\n",
       "    </tr>\n",
       "    <tr>\n",
       "      <th>8</th>\n",
       "      <td>830</td>\n",
       "      <td>2446</td>\n",
       "      <td>39</td>\n",
       "      <td>1331</td>\n",
       "      <td>308</td>\n",
       "      <td>192</td>\n",
       "    </tr>\n",
       "    <tr>\n",
       "      <th>9</th>\n",
       "      <td>868</td>\n",
       "      <td>1655</td>\n",
       "      <td>155</td>\n",
       "      <td>1903</td>\n",
       "      <td>627</td>\n",
       "      <td>79</td>\n",
       "    </tr>\n",
       "    <tr>\n",
       "      <th>10</th>\n",
       "      <td>756</td>\n",
       "      <td>1467</td>\n",
       "      <td>680</td>\n",
       "      <td>1246</td>\n",
       "      <td>177</td>\n",
       "      <td>44</td>\n",
       "    </tr>\n",
       "  </tbody>\n",
       "</table>\n",
       "</div>"
      ],
      "text/plain": [
       "location  Central Perk  Chandler and Joey's  Monica's Apartment  Other  \\\n",
       "season                                                                   \n",
       "1                  967                  355                1897    984   \n",
       "2                  661                  933                1530    562   \n",
       "3                  879                  621                1891   1362   \n",
       "4                  690                  774                2009    740   \n",
       "5                  953                  778                1813   1243   \n",
       "6                 1283                 1511                1042   1258   \n",
       "7                  980                 1596                 919   1321   \n",
       "8                  830                 2446                  39   1331   \n",
       "9                  868                 1655                 155   1903   \n",
       "10                 756                 1467                 680   1246   \n",
       "\n",
       "location  Ross's Apartment  The Hallway  \n",
       "season                                   \n",
       "1                       92           86  \n",
       "2                      278          103  \n",
       "3                       84          107  \n",
       "4                       79          116  \n",
       "5                      371           91  \n",
       "6                      209          115  \n",
       "7                      178           58  \n",
       "8                      308          192  \n",
       "9                      627           79  \n",
       "10                     177           44  "
      ]
     },
     "execution_count": 19,
     "metadata": {},
     "output_type": "execute_result"
    }
   ],
   "source": [
    "df_season_loc = pd.crosstab(df1.season, df1.location)\n",
    "df_season_loc"
   ]
  },
  {
   "cell_type": "code",
   "execution_count": 20,
   "metadata": {},
   "outputs": [
    {
     "data": {
      "image/png": "[encoded data removed]",
      "text/plain": [
       "<Figure size 432x288 with 2 Axes>"
      ]
     },
     "metadata": {
      "needs_background": "light"
     },
     "output_type": "display_data"
    }
   ],
   "source": [
    "ax = sns.heatmap(df_season_loc)\n"
   ]
  },
  {
   "cell_type": "markdown",
   "metadata": {},
   "source": [
    "## Calling functions again to add 'Other' to the characters"
   ]
  },
  {
   "cell_type": "code",
   "execution_count": 21,
   "metadata": {},
   "outputs": [],
   "source": [
    "seasons_list= []\n",
    "\n",
    "for i in range(1,11):\n",
    "    s = fr.raw_name(i)\n",
    "    d = pd.read_csv( s , sep='\\t')\n",
    "    fr.rename_col(d)\n",
    "    fr.scene_col(d)\n",
    "    fr.scene_fill(d)\n",
    "    fr.location(d)\n",
    "    fr.drop_scene(d)\n",
    "    fr.character(d)\n",
    "    fr.word_count(d)\n",
    "    d['season'] = i\n",
    "    seasons_list.append(d)"
   ]
  },
  {
   "cell_type": "code",
   "execution_count": 22,
   "metadata": {},
   "outputs": [],
   "source": [
    "df1 = fr.concat_df(seasons_list)"
   ]
  },
  {
   "cell_type": "code",
   "execution_count": 23,
   "metadata": {},
   "outputs": [],
   "source": [
    "apart.amend_location(df1)"
   ]
  },
  {
   "cell_type": "code",
   "execution_count": 24,
   "metadata": {},
   "outputs": [
    {
     "data": {
      "text/html": [
       "<div>\n",
       "<style scoped>\n",
       "    .dataframe tbody tr th:only-of-type {\n",
       "        vertical-align: middle;\n",
       "    }\n",
       "\n",
       "    .dataframe tbody tr th {\n",
       "        vertical-align: top;\n",
       "    }\n",
       "\n",
       "    .dataframe thead th {\n",
       "        text-align: right;\n",
       "    }\n",
       "</style>\n",
       "<table border=\"1\" class=\"dataframe\">\n",
       "  <thead>\n",
       "    <tr style=\"text-align: right;\">\n",
       "      <th></th>\n",
       "      <th>text</th>\n",
       "      <th>location</th>\n",
       "      <th>character</th>\n",
       "      <th>word_count</th>\n",
       "      <th>season</th>\n",
       "    </tr>\n",
       "  </thead>\n",
       "  <tbody>\n",
       "    <tr>\n",
       "      <th>3</th>\n",
       "      <td>[Scene: Central Perk, Chandler, Joey, Phoebe, ...</td>\n",
       "      <td>Central Perk</td>\n",
       "      <td>Other</td>\n",
       "      <td>9</td>\n",
       "      <td>1</td>\n",
       "    </tr>\n",
       "    <tr>\n",
       "      <th>4</th>\n",
       "      <td>Monica: There's nothing to tell! He's just som...</td>\n",
       "      <td>Central Perk</td>\n",
       "      <td>Monica</td>\n",
       "      <td>11</td>\n",
       "      <td>1</td>\n",
       "    </tr>\n",
       "    <tr>\n",
       "      <th>5</th>\n",
       "      <td>Joey: C'mon, you're going out with the guy! Th...</td>\n",
       "      <td>Central Perk</td>\n",
       "      <td>Joey</td>\n",
       "      <td>14</td>\n",
       "      <td>1</td>\n",
       "    </tr>\n",
       "    <tr>\n",
       "      <th>6</th>\n",
       "      <td>Chandler: All right Joey, be nice.  So does he...</td>\n",
       "      <td>Central Perk</td>\n",
       "      <td>Chandler</td>\n",
       "      <td>17</td>\n",
       "      <td>1</td>\n",
       "    </tr>\n",
       "    <tr>\n",
       "      <th>7</th>\n",
       "      <td>Phoebe: Wait, does he eat chalk?</td>\n",
       "      <td>Central Perk</td>\n",
       "      <td>Phoebe</td>\n",
       "      <td>5</td>\n",
       "      <td>1</td>\n",
       "    </tr>\n",
       "  </tbody>\n",
       "</table>\n",
       "</div>"
      ],
      "text/plain": [
       "                                                text      location character  \\\n",
       "3  [Scene: Central Perk, Chandler, Joey, Phoebe, ...  Central Perk     Other   \n",
       "4  Monica: There's nothing to tell! He's just som...  Central Perk    Monica   \n",
       "5  Joey: C'mon, you're going out with the guy! Th...  Central Perk      Joey   \n",
       "6  Chandler: All right Joey, be nice.  So does he...  Central Perk  Chandler   \n",
       "7                   Phoebe: Wait, does he eat chalk?  Central Perk    Phoebe   \n",
       "\n",
       "   word_count  season  \n",
       "3           9       1  \n",
       "4          11       1  \n",
       "5          14       1  \n",
       "6          17       1  \n",
       "7           5       1  "
      ]
     },
     "execution_count": 24,
     "metadata": {},
     "output_type": "execute_result"
    }
   ],
   "source": [
    "df1.head()"
   ]
  },
  {
   "cell_type": "code",
   "execution_count": 25,
   "metadata": {
    "scrolled": true
   },
   "outputs": [
    {
     "name": "stderr",
     "output_type": "stream",
     "text": [
      "/usr/local/lib/python3.7/site-packages/pandas/core/strings.py:1843: UserWarning: This pattern has match groups. To actually get the groups, use str.extract.\n",
      "  return func(self, *args, **kwargs)\n"
     ]
    }
   ],
   "source": [
    "phrase.catch_phrase(df1)"
   ]
  },
  {
   "cell_type": "code",
   "execution_count": 26,
   "metadata": {
    "scrolled": true
   },
   "outputs": [
    {
     "data": {
      "text/plain": [
       "                       66170\n",
       "OH MY GOD!               975\n",
       "Dinosaurs!                56\n",
       "How you doin!             24\n",
       "Smelly Cat!               24\n",
       "Pizza!                    22\n",
       "We were on a break!       17\n",
       "Name: catch_phrase, dtype: int64"
      ]
     },
     "execution_count": 26,
     "metadata": {},
     "output_type": "execute_result"
    }
   ],
   "source": [
    "df1.catch_phrase.value_counts()"
   ]
  }
 ],
 "metadata": {
  "kernelspec": {
   "display_name": "Python 3",
   "language": "python",
   "name": "python3"
  },
  "language_info": {
   "codemirror_mode": {
    "name": "ipython",
    "version": 3
   },
   "file_extension": ".py",
   "mimetype": "text/x-python",
   "name": "python",
   "nbconvert_exporter": "python",
   "pygments_lexer": "ipython3",
   "version": "3.7.5"
  }
 },
 "nbformat": 4,
 "nbformat_minor": 2
}
